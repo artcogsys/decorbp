{
 "cells": [
  {
   "cell_type": "markdown",
   "metadata": {},
   "source": [
    "This package implements the basic machinery for decorrelated backpropagation."
   ]
  },
  {
   "cell_type": "code",
   "execution_count": null,
   "metadata": {},
   "outputs": [
    {
     "ename": "",
     "evalue": "",
     "output_type": "error",
     "traceback": [
      "\u001b[1;31mRunning cells with 'base' requires the ipykernel package.\n",
      "\u001b[1;31mRun the following command to install 'ipykernel' into the Python environment. \n",
      "\u001b[1;31mCommand: 'conda install -n base ipykernel --update-deps --force-reinstall'"
     ]
    }
   ],
   "source": [
    "import torch\n",
    "from decorrelation import lower_triangular_correlation, DecorrelationPatch2d, DecorrelationFC\n",
    "import matplotlib.pyplot as plt"
   ]
  },
  {
   "cell_type": "markdown",
   "metadata": {},
   "source": [
    "We start by showing effective decorrelation of correlated input"
   ]
  },
  {
   "cell_type": "code",
   "execution_count": null,
   "metadata": {},
   "outputs": [
    {
     "ename": "",
     "evalue": "",
     "output_type": "error",
     "traceback": [
      "\u001b[1;31mRunning cells with 'base' requires the ipykernel package.\n",
      "\u001b[1;31mRun the following command to install 'ipykernel' into the Python environment. \n",
      "\u001b[1;31mCommand: 'conda install -n base ipykernel --update-deps --force-reinstall'"
     ]
    }
   ],
   "source": [
    "# generate [N, M] correlated input\n",
    "d = torch.distributions.MultivariateNormal(torch.zeros(800), 0.1 * torch.eye(800) + 0.9 * torch.ones((800, 800)))\n",
    "x = d.sample((100,))\n",
    "plt.imshow((x @ x.T) / len(x))\n"
   ]
  },
  {
   "cell_type": "markdown",
   "metadata": {},
   "source": [
    "Decorrelation of correlated input represented in convolutional [N, C, H, W] form"
   ]
  },
  {
   "cell_type": "code",
   "execution_count": null,
   "metadata": {},
   "outputs": [
    {
     "ename": "",
     "evalue": "",
     "output_type": "error",
     "traceback": [
      "\u001b[1;31mRunning cells with 'base' requires the ipykernel package.\n",
      "\u001b[1;31mRun the following command to install 'ipykernel' into the Python environment. \n",
      "\u001b[1;31mCommand: 'conda install -n base ipykernel --update-deps --force-reinstall'"
     ]
    }
   ],
   "source": [
    "# transform to [N, C, H, W] correlated input\n",
    "x = x.reshape(100,2,20,20)\n",
    "\n",
    "\n",
    "model = DecorrelationPatch2d(2, kernel_size=(3,3))\n",
    "\n",
    "plt.figure()\n",
    "for i in range(100):\n",
    "    y = model.forward(x)\n",
    "    model.update()\n",
    "    model.R -= 1e-2 * model.R.grad\n",
    "    # print(mean_correlation([model]).numpy()) # mean correlation over batches and patches\n",
    "    plt.subplot(10,10,i+1)\n",
    "    plt.imshow(model.correlation(model.output))\n",
    "    print(lower_triangular_correlation(DecorrelationFC.correlation(model.flatten(model.output))).numpy()) # mean correlation of the whole feature map\n",
    "plt.savefig(\"debug.png\")"
   ]
  }
 ],
 "metadata": {
  "kernelspec": {
   "display_name": "Python 3",
   "language": "python",
   "name": "python3"
  },
  "language_info": {
   "name": "python",
   "version": "3.9.5"
  }
 },
 "nbformat": 4,
 "nbformat_minor": 2
}
