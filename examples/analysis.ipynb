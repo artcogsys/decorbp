{
 "cells": [
  {
   "cell_type": "markdown",
   "metadata": {},
   "source": [
    "Complexity of matrix multiplication for A in (mxn) and B in (nxp) is 2mnp\n",
    "\n",
    "Suppose we have matrices W in (kxp), R in (pxp), X in (pxn).\n",
    "\n",
    "1) Complexity of W(RX) = 2p^2n + kpn\n",
    "\n",
    "2) Complexity of (WR)X = 2p^2k + kpn\n",
    "\n",
    "We choose 1 iff n (nr batch elements) < k (nr of outputs) and 2 otherwise\n",
    "\n",
    " "
   ]
  },
  {
   "cell_type": "code",
   "execution_count": 23,
   "metadata": {},
   "outputs": [
    {
     "name": "stdout",
     "output_type": "stream",
     "text": [
      "N < K\n",
      "W(RX) time: 0.346\n",
      "(WR)X time: 0.510\n",
      "N > K\n",
      "W(RX) time: 0.521\n",
      "(WR)X time: 0.345\n"
     ]
    }
   ],
   "source": [
    "import torch\n",
    "import time\n",
    "\n",
    "for i in range(2):\n",
    "\n",
    "    P = 2000\n",
    "\n",
    "    if i == 0:\n",
    "        print(f'N < K')\n",
    "        K = 2000\n",
    "        N = 1000\n",
    "    else:\n",
    "        print(f'N > K')\n",
    "        K = 1000\n",
    "        N = 2000\n",
    "\n",
    "    W = torch.randn(K,P)\n",
    "    R = torch.randn(P,P)\n",
    "    X = torch.randn(P,N)\n",
    "\n",
    "    tic = time.time()\n",
    "    for _ in range(20):\n",
    "        Z = W @ (R @ X)\n",
    "    print(f'W(RX) time: {(time.time() - tic):.3f}')\n",
    "\n",
    "    tic = time.time()\n",
    "    for _ in range(20):\n",
    "        Z = (W @ R) @ X\n",
    "    print(f'(WR)X time: {(time.time() - tic):.3f}')\n"
   ]
  },
  {
   "cell_type": "markdown",
   "metadata": {},
   "source": []
  },
  {
   "cell_type": "code",
   "execution_count": null,
   "metadata": {},
   "outputs": [],
   "source": []
  }
 ],
 "metadata": {
  "kernelspec": {
   "display_name": "pytorch",
   "language": "python",
   "name": "python3"
  },
  "language_info": {
   "codemirror_mode": {
    "name": "ipython",
    "version": 3
   },
   "file_extension": ".py",
   "mimetype": "text/x-python",
   "name": "python",
   "nbconvert_exporter": "python",
   "pygments_lexer": "ipython3",
   "version": "3.11.7"
  }
 },
 "nbformat": 4,
 "nbformat_minor": 2
}
