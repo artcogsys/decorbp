{
 "cells": [
  {
   "cell_type": "markdown",
   "metadata": {},
   "source": [
    "Analyses how kappa controls the covariance versus variance constraint"
   ]
  },
  {
   "cell_type": "code",
   "execution_count": 1,
   "metadata": {},
   "outputs": [],
   "source": [
    "import numpy as np\n",
    "import torch\n",
    "from decorrelation.decorrelation import lower_triangular, Decorrelation, DecorConv2d # DecorrelationPatch2d # covariance, DecorrelationPatch2d, DecorrelationFC, lower_triangular\n",
    "from decorrelation.plotting import *\n",
    "\n",
    "# automatic reloading of modules when they change\n",
    "%load_ext autoreload\n",
    "%autoreload 2\n",
    "\n",
    "device = torch.device(\"cuda:0\" if torch.cuda.is_available() else \"cpu\")"
   ]
  },
  {
   "cell_type": "code",
   "execution_count": 2,
   "metadata": {},
   "outputs": [],
   "source": [
    "def decorrelate(num_epochs, data, model, decor_lr):\n",
    "\n",
    "    # covariance matrix before training\n",
    "    X = model.decorrelate(data).view(data.shape[0],-1)\n",
    "    A1 = (X.T @ X) / len(X)\n",
    "\n",
    "    # train decorrelator\n",
    "    L = np.zeros(num_epochs)\n",
    "    for i in range(num_epochs):\n",
    "        model.forward(data)\n",
    "        L[i] = model.update()\n",
    "        model.weight -= decor_lr * model.weight.grad\n",
    "        if model.bias is not None:\n",
    "            model.bias -= decor_lr * model.bias.grad\n",
    "    \n",
    "        # covariance matrix after training\n",
    "    X = model.decorrelate(data).view(data.shape[0],-1)\n",
    "    A2 = (X.T @ X) / len(X)\n",
    "\n",
    "    return L, A1, A2"
   ]
  },
  {
   "cell_type": "code",
   "execution_count": 3,
   "metadata": {},
   "outputs": [],
   "source": [
    "num_samples=1000\n",
    "num_features=100\n",
    "num_epochs=1000\n",
    "seed=42\n",
    "decor_lr=1e-1\n",
    "\n",
    "torch.manual_seed(seed)\n",
    "torch.cuda.manual_seed(seed)\n",
    "np.random.seed(seed)\n",
    "\n",
    "# generate correlated data\n",
    "d = torch.distributions.MultivariateNormal(torch.zeros(num_features), 0.8 * torch.eye(num_features) + 0.2 * torch.ones((num_features, num_features)))\n",
    "data = d.sample((num_samples,)).to(device)\n",
    "\n",
    "torch.manual_seed(seed)\n",
    "torch.cuda.manual_seed(seed)\n",
    "np.random.seed(seed)\n",
    "\n",
    "kappas = np.linspace(0,1,20)\n",
    "D = np.zeros(len(kappas))\n",
    "C = np.zeros(len(kappas))\n",
    "for i, kappa in enumerate(kappas):\n",
    "\n",
    "    model = Decorrelation(in_features=num_features, bias=False, kappa=kappa).to(device)\n",
    "\n",
    "    L, A1, A2 = decorrelate(num_epochs, data, model, decor_lr)\n",
    "    \n",
    "    C[i] = torch.mean(lower_triangular(torch.abs(A2), offset=-1))\n",
    "    D[i] = torch.mean(torch.diag(A2))\n"
   ]
  },
  {
   "cell_type": "code",
   "execution_count": 4,
   "metadata": {},
   "outputs": [
    {
     "data": {
      "image/png": "[encoded data removed]",
      "text/plain": [
       "<Figure size 640x480 with 1 Axes>"
      ]
     },
     "metadata": {},
     "output_type": "display_data"
    }
   ],
   "source": [
    "plt.plot(kappas, C)\n",
    "plt.plot(kappas, D)\n",
    "plt.xlabel('$\\kappa$')\n",
    "plt.legend(['mean absolute covariance', 'mean variance']);"
   ]
  },
  {
   "cell_type": "code",
   "execution_count": null,
   "metadata": {},
   "outputs": [],
   "source": []
  }
 ],
 "metadata": {
  "kernelspec": {
   "display_name": "Python 3",
   "language": "python",
   "name": "python3"
  },
  "language_info": {
   "codemirror_mode": {
    "name": "ipython",
    "version": 3
   },
   "file_extension": ".py",
   "mimetype": "text/x-python",
   "name": "python",
   "nbconvert_exporter": "python",
   "pygments_lexer": "ipython3",
   "version": "3.11.7"
  }
 },
 "nbformat": 4,
 "nbformat_minor": 2
}
