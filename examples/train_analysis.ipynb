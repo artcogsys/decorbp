{
 "cells": [
  {
   "cell_type": "markdown",
   "metadata": {},
   "source": [
    "Analyses properties of decorrelation and whitening methods for decorrelated networks"
   ]
  },
  {
   "cell_type": "code",
   "execution_count": 1,
   "metadata": {},
   "outputs": [],
   "source": [
    "import numpy as np\n",
    "import torch\n",
    "import torch.nn as nn\n",
    "from decorrelation.decorrelation import Decorrelation, DecorLinear, DecorConv2d\n",
    "import matplotlib.pyplot as plt\n",
    "import matplotlib\n",
    "from torchvision.datasets import MNIST\n",
    "from torchvision import transforms\n",
    "from torch.utils.data import DataLoader, Subset\n",
    "from decorrelation.train import decor_train\n",
    "import argparse\n",
    "\n",
    "# automatic reloading of modules when they change\n",
    "%load_ext autoreload\n",
    "%autoreload 2\n",
    "\n",
    "seed = 42\n",
    "torch.manual_seed(seed)\n",
    "torch.cuda.manual_seed(seed)\n",
    "np.random.seed(seed)\n",
    "\n",
    "device = torch.device(\"cuda:0\" if torch.cuda.is_available() else \"cpu\")"
   ]
  },
  {
   "cell_type": "code",
   "execution_count": 2,
   "metadata": {},
   "outputs": [],
   "source": [
    "transform=transforms.Compose([\n",
    "        transforms.ToTensor(),\n",
    "        transforms.Grayscale(1),\n",
    "        transforms.Normalize((0.5), (0.25)),\n",
    "        # torch.flatten # not necessary but useful for debugging\n",
    "        ])\n",
    "\n",
    "train_data = MNIST(root='~/Data', train=True, download=True, transform=transform)\n",
    "train_data = Subset(train_data, np.random.permutation(len(train_data.data))[:1000])\n",
    "train_loader = DataLoader(train_data, batch_size=64, shuffle=True, num_workers=0, drop_last=True)"
   ]
  },
  {
   "cell_type": "code",
   "execution_count": 3,
   "metadata": {},
   "outputs": [
    {
     "name": "stdout",
     "output_type": "stream",
     "text": [
      "epoch 0  \ttime:0.000 s\tbp loss: 0.000000\tdecorrelation loss: 106.554642\n",
      "epoch 1  \ttime:0.339 s\tbp loss: 0.000000\tdecorrelation loss: 71.350754\n",
      "epoch 2  \ttime:0.338 s\tbp loss: 0.000000\tdecorrelation loss: 28.919159\n",
      "epoch 3  \ttime:0.373 s\tbp loss: 0.000000\tdecorrelation loss: 12.483562\n",
      "epoch 4  \ttime:0.396 s\tbp loss: 0.000000\tdecorrelation loss: 5.877904\n",
      "epoch 5  \ttime:0.300 s\tbp loss: 0.000000\tdecorrelation loss: 3.077055\n",
      "epoch 6  \ttime:0.300 s\tbp loss: 0.000000\tdecorrelation loss: 1.815406\n",
      "epoch 7  \ttime:0.299 s\tbp loss: 0.000000\tdecorrelation loss: 1.225905\n",
      "epoch 8  \ttime:0.286 s\tbp loss: 0.000000\tdecorrelation loss: 0.979269\n",
      "epoch 9  \ttime:0.332 s\tbp loss: 0.000000\tdecorrelation loss: 0.863898\n",
      "epoch 10 \ttime:0.315 s\tbp loss: 0.000000\tdecorrelation loss: 0.789051\n"
     ]
    }
   ],
   "source": [
    "args = argparse.Namespace(lr=0.0, eta=0.3, decor_lr=1e-4, whiten=True, epochs=10)\n",
    "\n",
    "model = Decorrelation(784, bias=False, eta=args.eta, whiten=args.whiten).to(device)\n",
    "\n",
    "lossfun = lambda x, y: nn.Parameter(torch.zeros(1, device=device, dtype=float), requires_grad=True)\n",
    "\n",
    "res = decor_train(args, model, lossfun, train_loader, device)"
   ]
  },
  {
   "cell_type": "code",
   "execution_count": 5,
   "metadata": {},
   "outputs": [
    {
     "name": "stdout",
     "output_type": "stream",
     "text": [
      "epoch 0  \ttime:0.000 s\tbp loss: 5.380835\tdecorrelation loss: 106.632347\n",
      "epoch 1  \ttime:0.349 s\tbp loss: 4.167106\tdecorrelation loss: 71.136711\n",
      "epoch 2  \ttime:0.352 s\tbp loss: 2.883931\tdecorrelation loss: 28.742876\n",
      "epoch 3  \ttime:0.360 s\tbp loss: 2.493549\tdecorrelation loss: 12.482757\n",
      "epoch 4  \ttime:0.340 s\tbp loss: 2.280089\tdecorrelation loss: 5.857890\n",
      "epoch 5  \ttime:0.343 s\tbp loss: 2.151146\tdecorrelation loss: 3.050898\n",
      "epoch 6  \ttime:0.325 s\tbp loss: 2.063200\tdecorrelation loss: 1.789254\n",
      "epoch 7  \ttime:0.349 s\tbp loss: 2.014316\tdecorrelation loss: 1.235146\n",
      "epoch 8  \ttime:0.398 s\tbp loss: 1.983537\tdecorrelation loss: 0.983310\n",
      "epoch 9  \ttime:0.359 s\tbp loss: 1.943933\tdecorrelation loss: 0.860065\n",
      "epoch 10 \ttime:0.341 s\tbp loss: 1.870017\tdecorrelation loss: 0.797620\n"
     ]
    }
   ],
   "source": [
    "args = argparse.Namespace(lr=1e-4, eta=0.3, decor_lr=1e-4, whiten=True, epochs=10)\n",
    "\n",
    "class Model(nn.Sequential):\n",
    "    def __init__(self, in_features, eta, whiten):\n",
    "        super().__init__(DecorLinear(in_features, 100, eta=eta, whiten=whiten))\n",
    "\n",
    "    def forward(self, x):\n",
    "        return super().forward(x.view(len(x), -1))\n",
    "    \n",
    "model = Model(784, eta=args.eta, whiten=args.whiten).to(device)\n",
    "\n",
    "lossfun = torch.nn.CrossEntropyLoss().to(device)\n",
    "\n",
    "res = decor_train(args, model, lossfun, train_loader, device)"
   ]
  },
  {
   "cell_type": "code",
   "execution_count": 12,
   "metadata": {},
   "outputs": [
    {
     "name": "stdout",
     "output_type": "stream",
     "text": [
      "epoch 0  \ttime:0.000 s\tbp loss: 2.620473\tdecorrelation loss: 112.731506\n",
      "epoch 1  \ttime:0.260 s\tbp loss: 1.902638\tdecorrelation loss: 21.809277\n",
      "epoch 2  \ttime:0.251 s\tbp loss: 0.918407\tdecorrelation loss: 21.362579\n",
      "epoch 3  \ttime:0.253 s\tbp loss: 0.553532\tdecorrelation loss: 24.658171\n",
      "epoch 4  \ttime:0.256 s\tbp loss: 0.406264\tdecorrelation loss: 17.113710\n",
      "epoch 5  \ttime:0.255 s\tbp loss: 0.328443\tdecorrelation loss: 11.661909\n",
      "epoch 6  \ttime:0.258 s\tbp loss: 0.267328\tdecorrelation loss: 8.902997\n",
      "epoch 7  \ttime:0.256 s\tbp loss: 0.222273\tdecorrelation loss: 7.267405\n",
      "epoch 8  \ttime:0.263 s\tbp loss: 0.188145\tdecorrelation loss: 6.286094\n",
      "epoch 9  \ttime:0.261 s\tbp loss: 0.157164\tdecorrelation loss: 5.313452\n",
      "epoch 10 \ttime:0.252 s\tbp loss: 0.132010\tdecorrelation loss: 4.743002\n",
      "epoch 11 \ttime:0.262 s\tbp loss: 0.110575\tdecorrelation loss: 4.302014\n",
      "epoch 12 \ttime:0.266 s\tbp loss: 0.093747\tdecorrelation loss: 3.870065\n",
      "epoch 13 \ttime:0.256 s\tbp loss: 0.080258\tdecorrelation loss: 3.629483\n",
      "epoch 14 \ttime:0.259 s\tbp loss: 0.069967\tdecorrelation loss: 3.281027\n",
      "epoch 15 \ttime:0.268 s\tbp loss: 0.062601\tdecorrelation loss: 2.945184\n",
      "epoch 16 \ttime:0.263 s\tbp loss: 0.054319\tdecorrelation loss: 2.808076\n",
      "epoch 17 \ttime:0.363 s\tbp loss: 0.048372\tdecorrelation loss: 2.567143\n",
      "epoch 18 \ttime:0.273 s\tbp loss: 0.044132\tdecorrelation loss: 2.386075\n",
      "epoch 19 \ttime:0.285 s\tbp loss: 0.039461\tdecorrelation loss: 2.288781\n",
      "epoch 20 \ttime:0.286 s\tbp loss: 0.036265\tdecorrelation loss: 2.183299\n",
      "epoch 21 \ttime:0.259 s\tbp loss: 0.033088\tdecorrelation loss: 2.022309\n",
      "epoch 22 \ttime:0.251 s\tbp loss: 0.030390\tdecorrelation loss: 1.926735\n",
      "epoch 23 \ttime:0.251 s\tbp loss: 0.028316\tdecorrelation loss: 1.824563\n",
      "epoch 24 \ttime:0.256 s\tbp loss: 0.026192\tdecorrelation loss: 1.669533\n",
      "epoch 25 \ttime:0.275 s\tbp loss: 0.024420\tdecorrelation loss: 1.633635\n",
      "epoch 26 \ttime:0.264 s\tbp loss: 0.022503\tdecorrelation loss: 1.527236\n",
      "epoch 27 \ttime:0.262 s\tbp loss: 0.021443\tdecorrelation loss: 1.493441\n",
      "epoch 28 \ttime:0.269 s\tbp loss: 0.019952\tdecorrelation loss: 1.406023\n",
      "epoch 29 \ttime:0.265 s\tbp loss: 0.018805\tdecorrelation loss: 1.344186\n",
      "epoch 30 \ttime:0.262 s\tbp loss: 0.017583\tdecorrelation loss: 1.297648\n"
     ]
    }
   ],
   "source": [
    "args = argparse.Namespace(lr=1e-3, eta=0.3, decor_lr=1e-4, whiten=False, epochs=30) # NOTE: Fails for whiten=True\n",
    "\n",
    "class Model(nn.Sequential):\n",
    "    def __init__(self, in_features, eta, whiten):\n",
    "        super().__init__(DecorLinear(in_features, 100, decor_bias=False, eta=eta, whiten=whiten),\n",
    "                        nn.LeakyReLU(),\n",
    "                        DecorLinear(100, 10, decor_bias=False, eta=eta, whiten=whiten)\n",
    "                        )\n",
    "\n",
    "    def forward(self, x):\n",
    "        return super().forward(x.view(len(x), -1))\n",
    "    \n",
    "model = Model(784, eta=args.eta, whiten=args.whiten).to(device)\n",
    "\n",
    "lossfun = torch.nn.CrossEntropyLoss().to(device)\n",
    "\n",
    "res = decor_train(args, model, lossfun, train_loader, device)"
   ]
  },
  {
   "cell_type": "code",
   "execution_count": null,
   "metadata": {},
   "outputs": [],
   "source": [
    "# TO DO: ConvNet\n"
   ]
  },
  {
   "cell_type": "markdown",
   "metadata": {},
   "source": []
  }
 ],
 "metadata": {
  "kernelspec": {
   "display_name": "Python 3",
   "language": "python",
   "name": "python3"
  },
  "language_info": {
   "codemirror_mode": {
    "name": "ipython",
    "version": 3
   },
   "file_extension": ".py",
   "mimetype": "text/x-python",
   "name": "python",
   "nbconvert_exporter": "python",
   "pygments_lexer": "ipython3",
   "version": "3.11.7"
  }
 },
 "nbformat": 4,
 "nbformat_minor": 2
}
