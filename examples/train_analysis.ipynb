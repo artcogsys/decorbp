{
 "cells": [
  {
   "cell_type": "markdown",
   "metadata": {},
   "source": [
    "Analyses properties of decorrelation and whitening methods for decorrelated networks"
   ]
  },
  {
   "cell_type": "code",
   "execution_count": 1,
   "metadata": {},
   "outputs": [],
   "source": [
    "import numpy as np\n",
    "import torch\n",
    "import torch.nn as nn\n",
    "from decorrelation.decorrelation import Decorrelation, DecorLinear, DecorConv2d\n",
    "import matplotlib.pyplot as plt\n",
    "import matplotlib\n",
    "from torchvision.datasets import MNIST\n",
    "from torchvision import transforms\n",
    "from torch.utils.data import DataLoader, Subset\n",
    "from decorrelation.train import decor_train\n",
    "import argparse\n",
    "\n",
    "# automatic reloading of modules when they change\n",
    "%load_ext autoreload\n",
    "%autoreload 2\n",
    "\n",
    "seed = 42\n",
    "torch.manual_seed(seed)\n",
    "torch.cuda.manual_seed(seed)\n",
    "np.random.seed(seed)\n",
    "\n",
    "device = torch.device(\"cuda:0\" if torch.cuda.is_available() else \"cpu\")"
   ]
  },
  {
   "cell_type": "code",
   "execution_count": 2,
   "metadata": {},
   "outputs": [],
   "source": [
    "transform=transforms.Compose([\n",
    "        transforms.ToTensor(),\n",
    "        transforms.Grayscale(1),\n",
    "        transforms.Normalize((0.5), (0.25)),\n",
    "        # torch.flatten # not necessary but useful for debugging\n",
    "        ])\n",
    "\n",
    "train_data = MNIST(root='~/Data', train=True, download=True, transform=transform)\n",
    "train_data = Subset(train_data, np.random.permutation(len(train_data.data))[:1000])\n",
    "train_loader = DataLoader(train_data, batch_size=64, shuffle=True, num_workers=0, drop_last=True)"
   ]
  },
  {
   "cell_type": "code",
   "execution_count": 3,
   "metadata": {},
   "outputs": [
    {
     "name": "stdout",
     "output_type": "stream",
     "text": [
      "epoch 0  \ttime:0.000 s\tbp loss: 0.000000\tdecorrelation loss: 106.560814\n",
      "epoch 1  \ttime:0.297 s\tbp loss: 0.000000\tdecorrelation loss: 71.353897\n",
      "epoch 2  \ttime:0.269 s\tbp loss: 0.000000\tdecorrelation loss: 28.923294\n",
      "epoch 3  \ttime:0.268 s\tbp loss: 0.000000\tdecorrelation loss: 12.493031\n",
      "epoch 4  \ttime:0.282 s\tbp loss: 0.000000\tdecorrelation loss: 5.892365\n",
      "epoch 5  \ttime:0.297 s\tbp loss: 0.000000\tdecorrelation loss: 3.095443\n",
      "epoch 6  \ttime:0.276 s\tbp loss: 0.000000\tdecorrelation loss: 1.836523\n",
      "epoch 7  \ttime:0.270 s\tbp loss: 0.000000\tdecorrelation loss: 1.248613\n",
      "epoch 8  \ttime:0.271 s\tbp loss: 0.000000\tdecorrelation loss: 1.002738\n",
      "epoch 9  \ttime:0.277 s\tbp loss: 0.000000\tdecorrelation loss: 0.887474\n",
      "epoch 10 \ttime:0.286 s\tbp loss: 0.000000\tdecorrelation loss: 0.812327\n"
     ]
    }
   ],
   "source": [
    "args = argparse.Namespace(lr=0.0, eta=0.3, decor_lr=1e-4, variance=1.0, epochs=10)\n",
    "\n",
    "model = Decorrelation(784, bias=False, eta=args.eta, variance=args.variance).to(device)\n",
    "\n",
    "lossfun = lambda x, y: nn.Parameter(torch.zeros(1, device=device, dtype=float), requires_grad=True)\n",
    "\n",
    "res = decor_train(args, model, lossfun, train_loader, device)"
   ]
  },
  {
   "cell_type": "code",
   "execution_count": 4,
   "metadata": {},
   "outputs": [
    {
     "name": "stdout",
     "output_type": "stream",
     "text": [
      "epoch 0  \ttime:0.000 s\tbp loss: 5.380835\tdecorrelation loss: 106.638420\n",
      "epoch 1  \ttime:0.375 s\tbp loss: 4.167106\tdecorrelation loss: 71.140137\n",
      "epoch 2  \ttime:0.308 s\tbp loss: 2.883932\tdecorrelation loss: 28.747271\n",
      "epoch 3  \ttime:0.343 s\tbp loss: 2.493549\tdecorrelation loss: 12.492141\n",
      "epoch 4  \ttime:0.401 s\tbp loss: 2.280089\tdecorrelation loss: 5.872338\n",
      "epoch 5  \ttime:0.336 s\tbp loss: 2.151146\tdecorrelation loss: 3.069327\n",
      "epoch 6  \ttime:0.365 s\tbp loss: 2.063200\tdecorrelation loss: 1.810406\n",
      "epoch 7  \ttime:0.339 s\tbp loss: 2.014316\tdecorrelation loss: 1.257885\n",
      "epoch 8  \ttime:0.267 s\tbp loss: 1.983537\tdecorrelation loss: 1.006842\n",
      "epoch 9  \ttime:0.267 s\tbp loss: 1.943933\tdecorrelation loss: 0.883589\n",
      "epoch 10 \ttime:0.341 s\tbp loss: 1.870017\tdecorrelation loss: 0.820903\n"
     ]
    }
   ],
   "source": [
    "args = argparse.Namespace(lr=1e-4, eta=0.3, decor_lr=1e-4, variance=1.0, epochs=10)\n",
    "\n",
    "class Model(nn.Sequential):\n",
    "    def __init__(self, in_features, eta, variance):\n",
    "        super().__init__(DecorLinear(in_features, 100, eta=eta, variance=variance))\n",
    "\n",
    "    def forward(self, x):\n",
    "        return super().forward(x.view(len(x), -1))\n",
    "    \n",
    "model = Model(784, eta=args.eta, variance=args.variance).to(device)\n",
    "\n",
    "lossfun = torch.nn.CrossEntropyLoss().to(device)\n",
    "\n",
    "res = decor_train(args, model, lossfun, train_loader, device)"
   ]
  },
  {
   "cell_type": "code",
   "execution_count": 11,
   "metadata": {},
   "outputs": [
    {
     "name": "stdout",
     "output_type": "stream",
     "text": [
      "epoch 0  \ttime:0.000 s\tbp loss: 2.500252\tdecorrelation loss: 110.414078\n",
      "epoch 1  \ttime:0.294 s\tbp loss: 2.369059\tdecorrelation loss: 110.095940\n",
      "epoch 2  \ttime:0.274 s\tbp loss: 2.093243\tdecorrelation loss: 111.840752\n",
      "epoch 3  \ttime:0.336 s\tbp loss: 1.851873\tdecorrelation loss: 119.033813\n",
      "epoch 4  \ttime:0.313 s\tbp loss: 1.649912\tdecorrelation loss: 128.727875\n",
      "epoch 5  \ttime:0.266 s\tbp loss: 1.483499\tdecorrelation loss: 141.375565\n",
      "epoch 6  \ttime:0.280 s\tbp loss: 1.328734\tdecorrelation loss: 156.265747\n",
      "epoch 7  \ttime:0.323 s\tbp loss: 1.215306\tdecorrelation loss: 171.440079\n",
      "epoch 8  \ttime:0.290 s\tbp loss: 1.098081\tdecorrelation loss: 188.659470\n",
      "epoch 9  \ttime:0.265 s\tbp loss: 1.006956\tdecorrelation loss: 210.630112\n",
      "epoch 10 \ttime:0.312 s\tbp loss: 0.907868\tdecorrelation loss: 234.998413\n",
      "epoch 11 \ttime:0.329 s\tbp loss: 0.834331\tdecorrelation loss: 259.065826\n",
      "epoch 12 \ttime:0.276 s\tbp loss: 0.777433\tdecorrelation loss: 285.908173\n",
      "epoch 13 \ttime:0.282 s\tbp loss: 0.727131\tdecorrelation loss: 303.365845\n",
      "epoch 14 \ttime:0.343 s\tbp loss: 0.685483\tdecorrelation loss: 324.181000\n",
      "epoch 15 \ttime:0.288 s\tbp loss: 0.666119\tdecorrelation loss: 347.622101\n",
      "epoch 16 \ttime:0.264 s\tbp loss: 0.631309\tdecorrelation loss: 362.036560\n",
      "epoch 17 \ttime:0.330 s\tbp loss: 0.592093\tdecorrelation loss: 383.455292\n",
      "epoch 18 \ttime:0.313 s\tbp loss: 0.572226\tdecorrelation loss: 405.468872\n",
      "epoch 19 \ttime:0.266 s\tbp loss: 0.546897\tdecorrelation loss: 424.154266\n",
      "epoch 20 \ttime:0.262 s\tbp loss: 0.528689\tdecorrelation loss: 445.092804\n",
      "epoch 21 \ttime:0.364 s\tbp loss: 0.506282\tdecorrelation loss: 471.788940\n",
      "epoch 22 \ttime:0.279 s\tbp loss: 0.482854\tdecorrelation loss: 489.022125\n",
      "epoch 23 \ttime:0.253 s\tbp loss: 0.476580\tdecorrelation loss: 510.876648\n",
      "epoch 24 \ttime:0.259 s\tbp loss: 0.462992\tdecorrelation loss: 523.977600\n",
      "epoch 25 \ttime:0.353 s\tbp loss: 0.442395\tdecorrelation loss: 547.149902\n",
      "epoch 26 \ttime:0.289 s\tbp loss: 0.435719\tdecorrelation loss: 560.754272\n",
      "epoch 27 \ttime:0.262 s\tbp loss: 0.419725\tdecorrelation loss: 575.499878\n",
      "epoch 28 \ttime:0.291 s\tbp loss: 0.408517\tdecorrelation loss: 595.405701\n",
      "epoch 29 \ttime:0.397 s\tbp loss: 0.388954\tdecorrelation loss: 609.647156\n",
      "epoch 30 \ttime:0.335 s\tbp loss: 0.381289\tdecorrelation loss: 627.570068\n"
     ]
    }
   ],
   "source": [
    "args = argparse.Namespace(lr=1e-4, eta=0.3, decor_lr=1e-3, variance=1.0, epochs=30) # FAILS FOR E.G. variance=1.0 at this learning rate\n",
    "\n",
    "class Model(nn.Sequential):\n",
    "    def __init__(self, in_features, eta, variance):\n",
    "        super().__init__(DecorLinear(in_features, 100, decor_bias=True, eta=eta, variance=variance),\n",
    "                        nn.LeakyReLU(),\n",
    "                        DecorLinear(100, 10, decor_bias=True, eta=eta, variance=variance)\n",
    "                        )\n",
    "\n",
    "    def forward(self, x):\n",
    "        return super().forward(x.view(len(x), -1))\n",
    "    \n",
    "model = Model(784, eta=args.eta, variance=args.variance).to(device)\n",
    "\n",
    "lossfun = torch.nn.CrossEntropyLoss().to(device)\n",
    "\n",
    "res = decor_train(args, model, lossfun, train_loader, device)"
   ]
  },
  {
   "cell_type": "code",
   "execution_count": 6,
   "metadata": {},
   "outputs": [],
   "source": [
    "# TO DO: ConvNet\n"
   ]
  },
  {
   "cell_type": "markdown",
   "metadata": {},
   "source": []
  }
 ],
 "metadata": {
  "kernelspec": {
   "display_name": "Python 3",
   "language": "python",
   "name": "python3"
  },
  "language_info": {
   "codemirror_mode": {
    "name": "ipython",
    "version": 3
   },
   "file_extension": ".py",
   "mimetype": "text/x-python",
   "name": "python",
   "nbconvert_exporter": "python",
   "pygments_lexer": "ipython3",
   "version": "3.11.7"
  }
 },
 "nbformat": 4,
 "nbformat_minor": 2
}
