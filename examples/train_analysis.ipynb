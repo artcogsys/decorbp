{
 "cells": [
  {
   "cell_type": "markdown",
   "metadata": {},
   "source": [
    "Analyses properties of decorrelation and whitening methods for decorrelated networks"
   ]
  },
  {
   "cell_type": "code",
   "execution_count": 1,
   "metadata": {},
   "outputs": [],
   "source": [
    "import numpy as np\n",
    "import torch\n",
    "import torch.nn as nn\n",
    "from decorrelation.decorrelation import Decorrelation, DecorLinear, DecorConv2d\n",
    "import matplotlib.pyplot as plt\n",
    "import matplotlib\n",
    "from torchvision.datasets import MNIST\n",
    "from torchvision import transforms\n",
    "from torch.utils.data import DataLoader, Subset\n",
    "from decorrelation.train import decor_train\n",
    "import argparse\n",
    "\n",
    "# automatic reloading of modules when they change\n",
    "%load_ext autoreload\n",
    "%autoreload 2\n",
    "\n",
    "seed = 42\n",
    "torch.manual_seed(seed)\n",
    "torch.cuda.manual_seed(seed)\n",
    "np.random.seed(seed)\n",
    "\n",
    "device = torch.device(\"cuda:0\" if torch.cuda.is_available() else \"cpu\")"
   ]
  },
  {
   "cell_type": "code",
   "execution_count": 2,
   "metadata": {},
   "outputs": [],
   "source": [
    "transform=transforms.Compose([\n",
    "        transforms.ToTensor(),\n",
    "        transforms.Grayscale(1),\n",
    "        transforms.Normalize((0.5), (0.25)),\n",
    "        torch.flatten # can be removed when moving to Conv2d\n",
    "        ])\n",
    "\n",
    "train_data = MNIST(root='~/Data', train=True, download=True, transform=transform)\n",
    "train_data = Subset(train_data, np.random.permutation(len(train_data.data))[:1000])\n",
    "train_loader = DataLoader(train_data, batch_size=64, shuffle=True, num_workers=0, drop_last=True)"
   ]
  },
  {
   "cell_type": "code",
   "execution_count": 3,
   "metadata": {},
   "outputs": [
    {
     "name": "stdout",
     "output_type": "stream",
     "text": [
      "epoch 0  \ttime:0.000 s\tbp loss: 0.000000\tdecorrelation loss: 106.560814\n",
      "epoch 1  \ttime:0.578 s\tbp loss: 0.000000\tdecorrelation loss: 92.458618\n",
      "epoch 2  \ttime:0.543 s\tbp loss: 0.000000\tdecorrelation loss: 67.835510\n",
      "epoch 3  \ttime:0.532 s\tbp loss: 0.000000\tdecorrelation loss: 49.946434\n",
      "epoch 4  \ttime:0.541 s\tbp loss: 0.000000\tdecorrelation loss: 37.211742\n",
      "epoch 5  \ttime:0.536 s\tbp loss: 0.000000\tdecorrelation loss: 27.915833\n",
      "epoch 6  \ttime:0.532 s\tbp loss: 0.000000\tdecorrelation loss: 20.952473\n",
      "epoch 7  \ttime:0.528 s\tbp loss: 0.000000\tdecorrelation loss: 15.865977\n",
      "epoch 8  \ttime:0.530 s\tbp loss: 0.000000\tdecorrelation loss: 12.110641\n",
      "epoch 9  \ttime:0.528 s\tbp loss: 0.000000\tdecorrelation loss: 9.355850\n",
      "epoch 10 \ttime:0.533 s\tbp loss: 0.000000\tdecorrelation loss: 7.313002\n"
     ]
    }
   ],
   "source": [
    "model = Decorrelation(784, bias=False, variance=1.0).to(device)\n",
    "\n",
    "lossfun = lambda x, y: nn.Parameter(torch.zeros(1, device=device, dtype=float), requires_grad=True)\n",
    "\n",
    "args = argparse.Namespace(lr=1e-4, eta=1e-5, epochs=10)\n",
    "\n",
    "res = decor_train(args, model, lossfun, train_loader, device)"
   ]
  },
  {
   "cell_type": "code",
   "execution_count": 4,
   "metadata": {},
   "outputs": [
    {
     "name": "stdout",
     "output_type": "stream",
     "text": [
      "epoch 0  \ttime:0.000 s\tbp loss: 5.380835\tdecorrelation loss: 106.638420\n",
      "epoch 1  \ttime:0.557 s\tbp loss: 4.126562\tdecorrelation loss: 92.378510\n",
      "epoch 2  \ttime:0.550 s\tbp loss: 2.728143\tdecorrelation loss: 67.550423\n",
      "epoch 3  \ttime:0.549 s\tbp loss: 2.297279\tdecorrelation loss: 50.074562\n",
      "epoch 4  \ttime:0.575 s\tbp loss: 2.049079\tdecorrelation loss: 37.256287\n",
      "epoch 5  \ttime:0.577 s\tbp loss: 1.873144\tdecorrelation loss: 27.816923\n",
      "epoch 6  \ttime:0.558 s\tbp loss: 1.731331\tdecorrelation loss: 20.886711\n",
      "epoch 7  \ttime:0.558 s\tbp loss: 1.619119\tdecorrelation loss: 15.840314\n",
      "epoch 8  \ttime:0.561 s\tbp loss: 1.512893\tdecorrelation loss: 12.159686\n",
      "epoch 9  \ttime:0.553 s\tbp loss: 1.421352\tdecorrelation loss: 9.431981\n",
      "epoch 10 \ttime:0.557 s\tbp loss: 1.346510\tdecorrelation loss: 7.337277\n"
     ]
    }
   ],
   "source": [
    "class Model(nn.Sequential):\n",
    "    def __init__(self, in_features, variance):\n",
    "        super().__init__(DecorLinear(in_features, 100, variance=variance))\n",
    "\n",
    "    def forward(self, x):\n",
    "        return super().forward(x.view(len(x), -1))\n",
    "    \n",
    "model = Model(784, variance=1.0).to(device)\n",
    "\n",
    "lossfun = torch.nn.CrossEntropyLoss().to(device)\n",
    "\n",
    "args = argparse.Namespace(lr=1e-4, eta=1e-5, epochs=10)\n",
    "\n",
    "res = decor_train(args, model, lossfun, train_loader, device)"
   ]
  },
  {
   "cell_type": "code",
   "execution_count": 6,
   "metadata": {},
   "outputs": [
    {
     "name": "stdout",
     "output_type": "stream",
     "text": [
      "epoch 0  \ttime:0.000 s\tbp loss: 2.659184\tdecorrelation loss: 111.116158\n",
      "epoch 1  \ttime:0.565 s\tbp loss: 2.588839\tdecorrelation loss: 95.809464\n",
      "epoch 2  \ttime:0.562 s\tbp loss: 2.490688\tdecorrelation loss: 70.225693\n",
      "epoch 3  \ttime:0.562 s\tbp loss: 2.426370\tdecorrelation loss: 51.945717\n",
      "epoch 4  \ttime:0.561 s\tbp loss: 2.382820\tdecorrelation loss: 38.757549\n",
      "epoch 5  \ttime:0.567 s\tbp loss: 2.347725\tdecorrelation loss: 28.985779\n",
      "epoch 6  \ttime:0.569 s\tbp loss: 2.312520\tdecorrelation loss: 21.931208\n",
      "epoch 7  \ttime:0.578 s\tbp loss: 2.285963\tdecorrelation loss: 16.769054\n",
      "epoch 8  \ttime:0.566 s\tbp loss: 2.259726\tdecorrelation loss: 12.832211\n",
      "epoch 9  \ttime:0.561 s\tbp loss: 2.230120\tdecorrelation loss: 9.983570\n",
      "epoch 10 \ttime:0.562 s\tbp loss: 2.205403\tdecorrelation loss: 7.837932\n",
      "epoch 11 \ttime:0.560 s\tbp loss: 2.179158\tdecorrelation loss: 6.218883\n",
      "epoch 12 \ttime:0.561 s\tbp loss: 2.155225\tdecorrelation loss: 5.047639\n",
      "epoch 13 \ttime:0.560 s\tbp loss: 2.133130\tdecorrelation loss: 4.105361\n",
      "epoch 14 \ttime:0.565 s\tbp loss: 2.111169\tdecorrelation loss: 3.435161\n",
      "epoch 15 \ttime:0.560 s\tbp loss: 2.092229\tdecorrelation loss: 2.880033\n",
      "epoch 16 \ttime:0.561 s\tbp loss: 2.071582\tdecorrelation loss: 2.479537\n",
      "epoch 17 \ttime:0.561 s\tbp loss: 2.049171\tdecorrelation loss: 2.130142\n",
      "epoch 18 \ttime:0.561 s\tbp loss: 2.035832\tdecorrelation loss: 1.918207\n",
      "epoch 19 \ttime:0.562 s\tbp loss: 2.012485\tdecorrelation loss: 1.726618\n",
      "epoch 20 \ttime:0.562 s\tbp loss: 1.990724\tdecorrelation loss: 1.575675\n"
     ]
    }
   ],
   "source": [
    "class Model(nn.Sequential):\n",
    "    def __init__(self, in_features, variance):\n",
    "        super().__init__(DecorLinear(in_features, 100, bias=True, variance=1.0),\n",
    "                        nn.LeakyReLU(),\n",
    "                        DecorLinear(100, 10, bias=True, variance=1.0)\n",
    "                        )\n",
    "\n",
    "    def forward(self, x):\n",
    "        return super().forward(x.view(len(x), -1))\n",
    "    \n",
    "model = Model(784, variance=1.0).to(device)\n",
    "\n",
    "lossfun = torch.nn.CrossEntropyLoss().to(device)\n",
    "\n",
    "args = argparse.Namespace(lr=1e-5, eta=1e-5, epochs=20)\n",
    "\n",
    "res = decor_train(args, model, lossfun, train_loader, device)"
   ]
  },
  {
   "cell_type": "markdown",
   "metadata": {},
   "source": [
    "Hypothesis for errors:\n",
    " - MNIST zeros\n",
    " - MNIST scaling (bias?)\n",
    " - variance choice\n",
    " - optimizer issues"
   ]
  },
  {
   "cell_type": "markdown",
   "metadata": {},
   "source": []
  }
 ],
 "metadata": {
  "kernelspec": {
   "display_name": "Python 3",
   "language": "python",
   "name": "python3"
  },
  "language_info": {
   "codemirror_mode": {
    "name": "ipython",
    "version": 3
   },
   "file_extension": ".py",
   "mimetype": "text/x-python",
   "name": "python",
   "nbconvert_exporter": "python",
   "pygments_lexer": "ipython3",
   "version": "3.11.7"
  }
 },
 "nbformat": 4,
 "nbformat_minor": 2
}
