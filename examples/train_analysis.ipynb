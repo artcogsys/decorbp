{
 "cells": [
  {
   "cell_type": "markdown",
   "metadata": {},
   "source": [
    "Analyses properties of decorrelation and whitening methods for decorrelated networks"
   ]
  },
  {
   "cell_type": "code",
   "execution_count": 1,
   "metadata": {},
   "outputs": [],
   "source": [
    "import numpy as np\n",
    "import torch\n",
    "import torch.nn as nn\n",
    "from decorrelation.decorrelation import Decorrelation, DecorLinear, DecorConv2d\n",
    "import matplotlib.pyplot as plt\n",
    "import matplotlib\n",
    "from torchvision.datasets import MNIST\n",
    "from torchvision import transforms\n",
    "from torch.utils.data import DataLoader, Subset\n",
    "from decorrelation.train import decor_train\n",
    "import argparse\n",
    "\n",
    "# automatic reloading of modules when they change\n",
    "%load_ext autoreload\n",
    "%autoreload 2\n",
    "\n",
    "seed = 42\n",
    "torch.manual_seed(seed)\n",
    "torch.cuda.manual_seed(seed)\n",
    "np.random.seed(seed)\n",
    "\n",
    "device = torch.device(\"cuda:0\" if torch.cuda.is_available() else \"cpu\")"
   ]
  },
  {
   "cell_type": "code",
   "execution_count": 2,
   "metadata": {},
   "outputs": [],
   "source": [
    "transform=transforms.Compose([\n",
    "        transforms.ToTensor(),\n",
    "        transforms.Grayscale(1),\n",
    "        transforms.Normalize((0.5), (0.5)),\n",
    "        # torch.flatten # not necessary but useful for debugging\n",
    "        ])\n",
    "\n",
    "train_data = MNIST(root='~/Data', train=True, download=True, transform=transform)\n",
    "train_data = Subset(train_data, np.random.permutation(len(train_data.data))[:1000])\n",
    "train_loader = DataLoader(train_data, batch_size=64, shuffle=True, num_workers=0, drop_last=True)"
   ]
  },
  {
   "cell_type": "code",
   "execution_count": 3,
   "metadata": {},
   "outputs": [
    {
     "name": "stdout",
     "output_type": "stream",
     "text": [
      "epoch 0  \ttime:0.000 s\tbp loss: 0.000000\tdecorrelation loss: 6.627906\n",
      "epoch 1  \ttime:0.368 s\tbp loss: 0.000000\tdecorrelation loss: 6.338502\n",
      "epoch 2  \ttime:0.401 s\tbp loss: 0.000000\tdecorrelation loss: 5.772131\n",
      "epoch 3  \ttime:0.454 s\tbp loss: 0.000000\tdecorrelation loss: 5.262663\n",
      "epoch 4  \ttime:0.352 s\tbp loss: 0.000000\tdecorrelation loss: 4.841757\n",
      "epoch 5  \ttime:0.347 s\tbp loss: 0.000000\tdecorrelation loss: 4.469853\n",
      "epoch 6  \ttime:0.462 s\tbp loss: 0.000000\tdecorrelation loss: 4.121214\n",
      "epoch 7  \ttime:0.415 s\tbp loss: 0.000000\tdecorrelation loss: 3.824177\n",
      "epoch 8  \ttime:0.379 s\tbp loss: 0.000000\tdecorrelation loss: 3.550914\n",
      "epoch 9  \ttime:0.355 s\tbp loss: 0.000000\tdecorrelation loss: 3.314016\n",
      "epoch 10 \ttime:0.387 s\tbp loss: 0.000000\tdecorrelation loss: 3.112059\n"
     ]
    }
   ],
   "source": [
    "args = argparse.Namespace(lr=0.0, eta=1e-2, decor_lr=1e0, whiten=True, epochs=10)\n",
    "\n",
    "model = Decorrelation(784, bias=False, eta=args.eta, whiten=args.whiten).to(device)\n",
    "\n",
    "lossfun = lambda x, y: nn.Parameter(torch.zeros(1, device=device, dtype=float), requires_grad=True)\n",
    "\n",
    "res = decor_train(args, model, lossfun, train_loader, device)"
   ]
  },
  {
   "cell_type": "code",
   "execution_count": 4,
   "metadata": {},
   "outputs": [
    {
     "name": "stdout",
     "output_type": "stream",
     "text": [
      "epoch 0  \ttime:0.000 s\tbp loss: 5.008767\tdecorrelation loss: 6.632705\n",
      "epoch 1  \ttime:0.340 s\tbp loss: 4.302653\tdecorrelation loss: 6.338794\n",
      "epoch 2  \ttime:0.343 s\tbp loss: 3.197514\tdecorrelation loss: 5.750855\n",
      "epoch 3  \ttime:0.339 s\tbp loss: 2.656548\tdecorrelation loss: 5.279569\n",
      "epoch 4  \ttime:0.427 s\tbp loss: 2.371899\tdecorrelation loss: 4.851607\n",
      "epoch 5  \ttime:0.391 s\tbp loss: 2.208116\tdecorrelation loss: 4.459737\n",
      "epoch 6  \ttime:0.374 s\tbp loss: 2.083977\tdecorrelation loss: 4.116480\n",
      "epoch 7  \ttime:0.334 s\tbp loss: 1.984350\tdecorrelation loss: 3.816057\n",
      "epoch 8  \ttime:0.357 s\tbp loss: 1.891012\tdecorrelation loss: 3.558414\n",
      "epoch 9  \ttime:0.429 s\tbp loss: 1.808348\tdecorrelation loss: 3.338013\n",
      "epoch 10 \ttime:0.413 s\tbp loss: 1.733128\tdecorrelation loss: 3.116416\n"
     ]
    }
   ],
   "source": [
    "args = argparse.Namespace(lr=1e-4, eta=1e-2, decor_lr=1e0, whiten=True, epochs=10)\n",
    "\n",
    "class Model(nn.Sequential):\n",
    "    def __init__(self, in_features, eta, whiten):\n",
    "        super().__init__(DecorLinear(in_features, 100, eta=eta, whiten=whiten))\n",
    "\n",
    "    def forward(self, x):\n",
    "        return super().forward(x.view(len(x), -1))\n",
    "    \n",
    "model = Model(784, eta=args.eta, whiten=args.whiten).to(device)\n",
    "\n",
    "lossfun = torch.nn.CrossEntropyLoss().to(device)\n",
    "\n",
    "res = decor_train(args, model, lossfun, train_loader, device)"
   ]
  },
  {
   "cell_type": "code",
   "execution_count": 5,
   "metadata": {},
   "outputs": [
    {
     "name": "stdout",
     "output_type": "stream",
     "text": [
      "epoch 0  \ttime:0.000 s\tbp loss: 2.482052\tdecorrelation loss: 6.917549\n",
      "epoch 1  \ttime:0.458 s\tbp loss: 2.086559\tdecorrelation loss: 5.980656\n",
      "epoch 2  \ttime:0.404 s\tbp loss: 1.297697\tdecorrelation loss: 4.035069\n",
      "epoch 3  \ttime:0.436 s\tbp loss: 0.941635\tdecorrelation loss: 2.515571\n",
      "epoch 4  \ttime:0.397 s\tbp loss: 0.758750\tdecorrelation loss: 2.012101\n",
      "epoch 5  \ttime:0.370 s\tbp loss: 0.665646\tdecorrelation loss: 2.113142\n",
      "epoch 6  \ttime:0.409 s\tbp loss: 0.595319\tdecorrelation loss: 1.488684\n",
      "epoch 7  \ttime:0.605 s\tbp loss: 0.530433\tdecorrelation loss: 1.215478\n",
      "epoch 8  \ttime:0.379 s\tbp loss: 0.474380\tdecorrelation loss: 1.158361\n",
      "epoch 9  \ttime:0.358 s\tbp loss: 0.437583\tdecorrelation loss: 0.948612\n",
      "epoch 10 \ttime:0.354 s\tbp loss: 0.411881\tdecorrelation loss: 0.876683\n",
      "epoch 11 \ttime:0.505 s\tbp loss: 0.383885\tdecorrelation loss: 0.754988\n",
      "epoch 12 \ttime:0.356 s\tbp loss: 0.353847\tdecorrelation loss: 0.715052\n",
      "epoch 13 \ttime:0.359 s\tbp loss: 0.333629\tdecorrelation loss: 0.731375\n",
      "epoch 14 \ttime:0.364 s\tbp loss: 0.306879\tdecorrelation loss: 0.819065\n",
      "epoch 15 \ttime:0.382 s\tbp loss: 0.286065\tdecorrelation loss: 0.801076\n",
      "epoch 16 \ttime:0.367 s\tbp loss: 0.258239\tdecorrelation loss: 0.809019\n",
      "epoch 17 \ttime:0.359 s\tbp loss: 0.233127\tdecorrelation loss: 0.786736\n",
      "epoch 18 \ttime:0.377 s\tbp loss: 0.216157\tdecorrelation loss: 0.780555\n",
      "epoch 19 \ttime:0.366 s\tbp loss: 0.204220\tdecorrelation loss: 0.672180\n",
      "epoch 20 \ttime:0.384 s\tbp loss: 0.194462\tdecorrelation loss: 0.628984\n",
      "epoch 21 \ttime:0.368 s\tbp loss: 0.181921\tdecorrelation loss: 0.556276\n",
      "epoch 22 \ttime:0.365 s\tbp loss: 0.172255\tdecorrelation loss: 0.527586\n",
      "epoch 23 \ttime:0.375 s\tbp loss: 0.161396\tdecorrelation loss: 0.506323\n",
      "epoch 24 \ttime:0.410 s\tbp loss: 0.154939\tdecorrelation loss: 0.483081\n",
      "epoch 25 \ttime:0.443 s\tbp loss: 0.145541\tdecorrelation loss: 0.476864\n",
      "epoch 26 \ttime:0.363 s\tbp loss: 0.136600\tdecorrelation loss: 0.470366\n",
      "epoch 27 \ttime:0.357 s\tbp loss: 0.132991\tdecorrelation loss: 0.462158\n",
      "epoch 28 \ttime:0.358 s\tbp loss: 0.131178\tdecorrelation loss: 0.450715\n",
      "epoch 29 \ttime:0.375 s\tbp loss: 0.123955\tdecorrelation loss: 0.443091\n",
      "epoch 30 \ttime:0.371 s\tbp loss: 0.120079\tdecorrelation loss: 0.434358\n"
     ]
    }
   ],
   "source": [
    "args = argparse.Namespace(lr=1e-3, eta=1e-2, decor_lr=1e1, whiten=True, epochs=30) # NOTE: Fails for whiten=True\n",
    "\n",
    "class Model(nn.Sequential):\n",
    "    def __init__(self, in_features, eta, whiten):\n",
    "        super().__init__(DecorLinear(in_features, 100, decor_bias=False, eta=eta, whiten=whiten),\n",
    "                        nn.LeakyReLU(),\n",
    "                        DecorLinear(100, 10, decor_bias=False, eta=eta, whiten=whiten)\n",
    "                        )\n",
    "\n",
    "    def forward(self, x):\n",
    "        return super().forward(x.view(len(x), -1))\n",
    "    \n",
    "model = Model(784, eta=args.eta, whiten=args.whiten).to(device)\n",
    "\n",
    "lossfun = torch.nn.CrossEntropyLoss().to(device)\n",
    "\n",
    "res = decor_train(args, model, lossfun, train_loader, device)"
   ]
  },
  {
   "cell_type": "code",
   "execution_count": 6,
   "metadata": {},
   "outputs": [],
   "source": [
    "# TO DO: ConvNet\n"
   ]
  },
  {
   "cell_type": "markdown",
   "metadata": {},
   "source": []
  }
 ],
 "metadata": {
  "kernelspec": {
   "display_name": "Python 3",
   "language": "python",
   "name": "python3"
  },
  "language_info": {
   "codemirror_mode": {
    "name": "ipython",
    "version": 3
   },
   "file_extension": ".py",
   "mimetype": "text/x-python",
   "name": "python",
   "nbconvert_exporter": "python",
   "pygments_lexer": "ipython3",
   "version": "3.11.7"
  }
 },
 "nbformat": 4,
 "nbformat_minor": 2
}
