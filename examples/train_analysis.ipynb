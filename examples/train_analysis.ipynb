{
 "cells": [
  {
   "cell_type": "markdown",
   "metadata": {},
   "source": [
    "Analyses properties of decorrelation and whitening methods for decorrelated networks"
   ]
  },
  {
   "cell_type": "code",
   "execution_count": 7,
   "metadata": {},
   "outputs": [
    {
     "name": "stdout",
     "output_type": "stream",
     "text": [
      "The autoreload extension is already loaded. To reload it, use:\n",
      "  %reload_ext autoreload\n"
     ]
    }
   ],
   "source": [
    "import numpy as np\n",
    "import torch\n",
    "import torch.nn as nn\n",
    "from decorrelation.decorrelation import Decorrelation, DecorLinear, DecorConv2d\n",
    "import matplotlib.pyplot as plt\n",
    "import matplotlib\n",
    "from torchvision.datasets import MNIST\n",
    "from torchvision import transforms\n",
    "from torch.utils.data import DataLoader, Subset\n",
    "from decorrelation.train import decor_train\n",
    "import argparse\n",
    "\n",
    "# automatic reloading of modules when they change\n",
    "%load_ext autoreload\n",
    "%autoreload 2\n",
    "\n",
    "seed = 42\n",
    "torch.manual_seed(seed)\n",
    "torch.cuda.manual_seed(seed)\n",
    "np.random.seed(seed)\n",
    "\n",
    "device = torch.device(\"cuda:0\" if torch.cuda.is_available() else \"cpu\")"
   ]
  },
  {
   "cell_type": "code",
   "execution_count": 8,
   "metadata": {},
   "outputs": [],
   "source": [
    "transform=transforms.Compose([\n",
    "        transforms.ToTensor(),\n",
    "        transforms.Grayscale(1),\n",
    "        transforms.Normalize((0.5), (0.5))\n",
    "        ])\n",
    "\n",
    "train_data = MNIST(root='~/Data', train=True, download=True, transform=transform)    \n",
    "train_data = Subset(train_data, np.random.permutation(len(train_data.data))[:1000])\n",
    "train_loader = DataLoader(train_data, batch_size=64, shuffle=True, num_workers=0, drop_last=True)"
   ]
  },
  {
   "cell_type": "code",
   "execution_count": 9,
   "metadata": {},
   "outputs": [
    {
     "name": "stdout",
     "output_type": "stream",
     "text": [
      "epoch 0  \ttime:0.000 s\tbp loss: 0.000000\tdecorrelation loss: 3.325848\n",
      "epoch 1  \ttime:0.529 s\tbp loss: 0.000000\tdecorrelation loss: 2.886503\n",
      "epoch 2  \ttime:0.548 s\tbp loss: 0.000000\tdecorrelation loss: 2.119532\n",
      "epoch 3  \ttime:0.573 s\tbp loss: 0.000000\tdecorrelation loss: 1.562483\n",
      "epoch 4  \ttime:0.556 s\tbp loss: 0.000000\tdecorrelation loss: 1.166143\n",
      "epoch 5  \ttime:0.562 s\tbp loss: 0.000000\tdecorrelation loss: 0.876968\n",
      "epoch 6  \ttime:0.542 s\tbp loss: 0.000000\tdecorrelation loss: 0.660428\n",
      "epoch 7  \ttime:0.540 s\tbp loss: 0.000000\tdecorrelation loss: 0.502379\n",
      "epoch 8  \ttime:0.529 s\tbp loss: 0.000000\tdecorrelation loss: 0.385764\n",
      "epoch 9  \ttime:0.529 s\tbp loss: 0.000000\tdecorrelation loss: 0.300305\n",
      "epoch 10 \ttime:0.527 s\tbp loss: 0.000000\tdecorrelation loss: 0.237025\n"
     ]
    }
   ],
   "source": [
    "model = Decorrelation(784, variance=1.0).to(device)\n",
    "\n",
    "lossfun = lambda x, y: nn.Parameter(torch.zeros(1, device=device, dtype=float), requires_grad=True)\n",
    "\n",
    "args = argparse.Namespace(lr=1e-4, eta=1e-5, epochs=10)\n",
    "\n",
    "res = decor_train(args, model, lossfun, train_loader, device)"
   ]
  },
  {
   "cell_type": "code",
   "execution_count": 15,
   "metadata": {},
   "outputs": [
    {
     "name": "stdout",
     "output_type": "stream",
     "text": [
      "epoch 0  \ttime:0.000 s\tbp loss: 5.404356\tdecorrelation loss: 3.324482\n",
      "epoch 1  \ttime:0.572 s\tbp loss: 4.667752\tdecorrelation loss: 2.885933\n",
      "epoch 2  \ttime:0.557 s\tbp loss: 3.502808\tdecorrelation loss: 2.113524\n",
      "epoch 3  \ttime:0.598 s\tbp loss: 2.883469\tdecorrelation loss: 1.571422\n",
      "epoch 4  \ttime:0.613 s\tbp loss: 2.567964\tdecorrelation loss: 1.164550\n",
      "epoch 5  \ttime:0.569 s\tbp loss: 2.384269\tdecorrelation loss: 0.872825\n",
      "epoch 6  \ttime:0.556 s\tbp loss: 2.252117\tdecorrelation loss: 0.659291\n",
      "epoch 7  \ttime:0.550 s\tbp loss: 2.152915\tdecorrelation loss: 0.503887\n",
      "epoch 8  \ttime:0.552 s\tbp loss: 2.068698\tdecorrelation loss: 0.386170\n",
      "epoch 9  \ttime:0.551 s\tbp loss: 1.983859\tdecorrelation loss: 0.301467\n",
      "epoch 10 \ttime:0.549 s\tbp loss: 1.913287\tdecorrelation loss: 0.236745\n"
     ]
    }
   ],
   "source": [
    "class Model(nn.Sequential):\n",
    "    def __init__(self, in_features, variance):\n",
    "        super().__init__(DecorLinear(in_features, 100, variance=variance))\n",
    "\n",
    "    def forward(self, x):\n",
    "        return super().forward(x.view(len(x), -1))\n",
    "    \n",
    "model = Model(784, variance=1.0).to(device)\n",
    "\n",
    "lossfun = torch.nn.CrossEntropyLoss().to(device)\n",
    "\n",
    "args = argparse.Namespace(lr=1e-4, eta=1e-5, epochs=10)\n",
    "\n",
    "res = decor_train(args, model, lossfun, train_loader, device)"
   ]
  },
  {
   "cell_type": "code",
   "execution_count": 16,
   "metadata": {},
   "outputs": [
    {
     "name": "stdout",
     "output_type": "stream",
     "text": [
      "epoch 0  \ttime:0.000 s\tbp loss: 2.504519\tdecorrelation loss: 3.514931\n",
      "epoch 1  \ttime:0.586 s\tbp loss: 2.413006\tdecorrelation loss: 3.069027\n",
      "epoch 2  \ttime:0.570 s\tbp loss: 2.244280\tdecorrelation loss: 2.355799\n",
      "epoch 3  \ttime:0.584 s\tbp loss: 2.054247\tdecorrelation loss: 2.765030\n",
      "epoch 4  \ttime:0.577 s\tbp loss: 1.841620\tdecorrelation loss: 6.795751\n",
      "epoch 5  \ttime:0.562 s\tbp loss: 1.666811\tdecorrelation loss: 16.553492\n",
      "epoch 6  \ttime:0.561 s\tbp loss: 1.505444\tdecorrelation loss: 17.876627\n",
      "epoch 7  \ttime:0.561 s\tbp loss: 1.376239\tdecorrelation loss: 21.855539\n",
      "epoch 8  \ttime:0.568 s\tbp loss: 1.252189\tdecorrelation loss: 30.634464\n",
      "epoch 9  \ttime:0.586 s\tbp loss: 1.137028\tdecorrelation loss: 28.027956\n",
      "epoch 10 \ttime:0.570 s\tbp loss: 1.037167\tdecorrelation loss: 34.538498\n",
      "epoch 11 \ttime:0.577 s\tbp loss: 0.949478\tdecorrelation loss: 40.352013\n",
      "epoch 12 \ttime:0.576 s\tbp loss: 0.868624\tdecorrelation loss: 49.843830\n",
      "epoch 13 \ttime:0.579 s\tbp loss: 0.809069\tdecorrelation loss: 62.101517\n",
      "epoch 14 \ttime:0.563 s\tbp loss: 0.756329\tdecorrelation loss: 85.235710\n",
      "epoch 15 \ttime:0.566 s\tbp loss: 0.700824\tdecorrelation loss: 84.742050\n",
      "epoch 16 \ttime:0.562 s\tbp loss: 0.669290\tdecorrelation loss: 112.668175\n",
      "epoch 17 \ttime:0.561 s\tbp loss: 0.626034\tdecorrelation loss: 123.227844\n",
      "epoch 18 \ttime:0.578 s\tbp loss: 0.595275\tdecorrelation loss: 136.907043\n",
      "epoch 19 \ttime:0.576 s\tbp loss: 0.568444\tdecorrelation loss: 164.896545\n",
      "epoch 20 \ttime:0.567 s\tbp loss: 0.541079\tdecorrelation loss: 186.968384\n"
     ]
    }
   ],
   "source": [
    "class Model(nn.Sequential):\n",
    "    def __init__(self, in_features, variance):\n",
    "        super().__init__(DecorLinear(in_features, 100, variance=variance), # CONFLATION OF DECORRELATION AND BP PARAMETERS??? HAS_GRAD??? SET NONE\n",
    "                        nn.ReLU(),\n",
    "                        DecorLinear(100, 10, variance=variance)\n",
    "                        )\n",
    "\n",
    "    def forward(self, x):\n",
    "        return super().forward(x.view(len(x), -1))\n",
    "    \n",
    "model = Model(784, variance=1.0).to(device)\n",
    "\n",
    "lossfun = torch.nn.CrossEntropyLoss().to(device)\n",
    "\n",
    "args = argparse.Namespace(lr=1e-4, eta=1e-5, epochs=20)\n",
    "\n",
    "res = decor_train(args, model, lossfun, train_loader, device)"
   ]
  },
  {
   "cell_type": "code",
   "execution_count": null,
   "metadata": {},
   "outputs": [],
   "source": []
  }
 ],
 "metadata": {
  "kernelspec": {
   "display_name": "Python 3",
   "language": "python",
   "name": "python3"
  },
  "language_info": {
   "codemirror_mode": {
    "name": "ipython",
    "version": 3
   },
   "file_extension": ".py",
   "mimetype": "text/x-python",
   "name": "python",
   "nbconvert_exporter": "python",
   "pygments_lexer": "ipython3",
   "version": "3.11.7"
  }
 },
 "nbformat": 4,
 "nbformat_minor": 2
}
