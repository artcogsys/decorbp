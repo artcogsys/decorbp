{
 "cells": [
  {
   "cell_type": "markdown",
   "metadata": {},
   "source": [
    "Analyses properties of decorrelation and whitening methods for decorrelated networks"
   ]
  },
  {
   "cell_type": "code",
   "execution_count": 1,
   "metadata": {},
   "outputs": [],
   "source": [
    "import numpy as np\n",
    "import torch\n",
    "import torch.nn as nn\n",
    "from decorrelation.decorrelation import Decorrelation, DecorLinear, DecorConv2d\n",
    "import matplotlib.pyplot as plt\n",
    "import matplotlib\n",
    "from torchvision.datasets import MNIST\n",
    "from torchvision import transforms\n",
    "from torch.utils.data import DataLoader, Subset\n",
    "from decorrelation.train import decor_train\n",
    "import argparse\n",
    "\n",
    "# automatic reloading of modules when they change\n",
    "%load_ext autoreload\n",
    "%autoreload 2\n",
    "\n",
    "seed = 42\n",
    "torch.manual_seed(seed)\n",
    "torch.cuda.manual_seed(seed)\n",
    "np.random.seed(seed)\n",
    "\n",
    "device = torch.device(\"cuda:0\" if torch.cuda.is_available() else \"cpu\")"
   ]
  },
  {
   "cell_type": "code",
   "execution_count": 2,
   "metadata": {},
   "outputs": [],
   "source": [
    "transform=transforms.Compose([\n",
    "        transforms.ToTensor(),\n",
    "        transforms.Grayscale(1),\n",
    "        transforms.Normalize((0.5), (0.25)),\n",
    "        # torch.flatten # not necessary but useful for debugging\n",
    "        ])\n",
    "\n",
    "train_data = MNIST(root='~/Data', train=True, download=True, transform=transform)\n",
    "train_data = Subset(train_data, np.random.permutation(len(train_data.data))[:1000])\n",
    "train_loader = DataLoader(train_data, batch_size=64, shuffle=True, num_workers=0, drop_last=True)"
   ]
  },
  {
   "cell_type": "code",
   "execution_count": 3,
   "metadata": {},
   "outputs": [
    {
     "name": "stdout",
     "output_type": "stream",
     "text": [
      "epoch 0  \ttime:0.000 s\tbp loss: 0.000000\tdecorrelation loss: 106.560814\n",
      "epoch 1  \ttime:0.361 s\tbp loss: 0.000000\tdecorrelation loss: 71.353897\n",
      "epoch 2  \ttime:0.359 s\tbp loss: 0.000000\tdecorrelation loss: 28.923294\n",
      "epoch 3  \ttime:0.360 s\tbp loss: 0.000000\tdecorrelation loss: 12.493031\n",
      "epoch 4  \ttime:0.357 s\tbp loss: 0.000000\tdecorrelation loss: 5.892365\n",
      "epoch 5  \ttime:0.372 s\tbp loss: 0.000000\tdecorrelation loss: 3.095443\n",
      "epoch 6  \ttime:0.359 s\tbp loss: 0.000000\tdecorrelation loss: 1.836523\n",
      "epoch 7  \ttime:0.362 s\tbp loss: 0.000000\tdecorrelation loss: 1.248613\n",
      "epoch 8  \ttime:0.371 s\tbp loss: 0.000000\tdecorrelation loss: 1.002738\n",
      "epoch 9  \ttime:0.362 s\tbp loss: 0.000000\tdecorrelation loss: 0.887474\n",
      "epoch 10 \ttime:0.360 s\tbp loss: 0.000000\tdecorrelation loss: 0.812327\n"
     ]
    }
   ],
   "source": [
    "args = argparse.Namespace(lr=0.0, eta=0.3, decor_lr=1e-4, variance=1.0, epochs=10)\n",
    "\n",
    "model = Decorrelation(784, bias=False, eta=args.eta, variance=args.variance).to(device)\n",
    "\n",
    "lossfun = lambda x, y: nn.Parameter(torch.zeros(1, device=device, dtype=float), requires_grad=True)\n",
    "\n",
    "res = decor_train(args, model, lossfun, train_loader, device)"
   ]
  },
  {
   "cell_type": "code",
   "execution_count": 4,
   "metadata": {},
   "outputs": [
    {
     "name": "stdout",
     "output_type": "stream",
     "text": [
      "epoch 0  \ttime:0.000 s\tbp loss: 5.380835\tdecorrelation loss: 106.638420\n",
      "epoch 1  \ttime:0.389 s\tbp loss: 4.167106\tdecorrelation loss: 71.140137\n",
      "epoch 2  \ttime:0.387 s\tbp loss: 2.883932\tdecorrelation loss: 28.747271\n",
      "epoch 3  \ttime:0.387 s\tbp loss: 2.493549\tdecorrelation loss: 12.492141\n",
      "epoch 4  \ttime:0.386 s\tbp loss: 2.280089\tdecorrelation loss: 5.872338\n",
      "epoch 5  \ttime:0.383 s\tbp loss: 2.151146\tdecorrelation loss: 3.069327\n",
      "epoch 6  \ttime:0.396 s\tbp loss: 2.063200\tdecorrelation loss: 1.810406\n",
      "epoch 7  \ttime:0.386 s\tbp loss: 2.014316\tdecorrelation loss: 1.257885\n",
      "epoch 8  \ttime:0.388 s\tbp loss: 1.983537\tdecorrelation loss: 1.006842\n",
      "epoch 9  \ttime:0.380 s\tbp loss: 1.943933\tdecorrelation loss: 0.883589\n",
      "epoch 10 \ttime:0.382 s\tbp loss: 1.870017\tdecorrelation loss: 0.820903\n"
     ]
    }
   ],
   "source": [
    "args = argparse.Namespace(lr=1e-4, eta=0.3, decor_lr=1e-4, variance=1.0, epochs=10)\n",
    "\n",
    "class Model(nn.Sequential):\n",
    "    def __init__(self, in_features, eta, variance):\n",
    "        super().__init__(DecorLinear(in_features, 100, eta=eta, variance=variance))\n",
    "\n",
    "    def forward(self, x):\n",
    "        return super().forward(x.view(len(x), -1))\n",
    "    \n",
    "model = Model(784, eta=args.eta, variance=args.variance).to(device)\n",
    "\n",
    "lossfun = torch.nn.CrossEntropyLoss().to(device)\n",
    "\n",
    "res = decor_train(args, model, lossfun, train_loader, device)"
   ]
  },
  {
   "cell_type": "code",
   "execution_count": 9,
   "metadata": {},
   "outputs": [
    {
     "name": "stdout",
     "output_type": "stream",
     "text": [
      "epoch 0  \ttime:0.000 s\tbp loss: 2.574494\tdecorrelation loss: 110.781136\n",
      "epoch 1  \ttime:0.356 s\tbp loss: 2.431993\tdecorrelation loss: 16.077549\n",
      "epoch 2  \ttime:0.348 s\tbp loss: 2.198667\tdecorrelation loss: 0.958726\n",
      "epoch 3  \ttime:0.332 s\tbp loss: 1.991839\tdecorrelation loss: 0.831519\n",
      "epoch 4  \ttime:0.357 s\tbp loss: 1.816990\tdecorrelation loss: 1.540964\n",
      "epoch 5  \ttime:0.353 s\tbp loss: 1.665717\tdecorrelation loss: 4.488208\n",
      "epoch 6  \ttime:0.367 s\tbp loss: 1.533112\tdecorrelation loss: 26.396355\n",
      "epoch 7  \ttime:0.348 s\tbp loss: 1.421979\tdecorrelation loss: 84.714844\n",
      "epoch 8  \ttime:0.348 s\tbp loss: 1.317872\tdecorrelation loss: 140.164139\n",
      "epoch 9  \ttime:0.359 s\tbp loss: 1.249197\tdecorrelation loss: 256.773102\n",
      "epoch 10 \ttime:0.350 s\tbp loss: 1.161782\tdecorrelation loss: 287.796539\n"
     ]
    }
   ],
   "source": [
    "args = argparse.Namespace(lr=1e-4, eta=0.3, decor_lr=1e-3, variance=None, epochs=10) # FAILS FOR E.G. variance=1.0 at this learning rate\n",
    "\n",
    "class Model(nn.Sequential):\n",
    "    def __init__(self, in_features, eta, variance):\n",
    "        super().__init__(DecorLinear(in_features, 100, decor_bias=True, eta=eta, variance=variance),\n",
    "                        nn.LeakyReLU(),\n",
    "                        DecorLinear(100, 10, decor_bias=True, eta=eta, variance=variance)\n",
    "                        )\n",
    "\n",
    "    def forward(self, x):\n",
    "        return super().forward(x.view(len(x), -1))\n",
    "    \n",
    "model = Model(784, eta=args.eta, variance=args.variance).to(device)\n",
    "\n",
    "lossfun = torch.nn.CrossEntropyLoss().to(device)\n",
    "\n",
    "res = decor_train(args, model, lossfun, train_loader, device)"
   ]
  },
  {
   "cell_type": "code",
   "execution_count": 7,
   "metadata": {},
   "outputs": [],
   "source": [
    "# TO DO: ConvNet\n"
   ]
  },
  {
   "cell_type": "markdown",
   "metadata": {},
   "source": []
  }
 ],
 "metadata": {
  "kernelspec": {
   "display_name": "Python 3",
   "language": "python",
   "name": "python3"
  },
  "language_info": {
   "codemirror_mode": {
    "name": "ipython",
    "version": 3
   },
   "file_extension": ".py",
   "mimetype": "text/x-python",
   "name": "python",
   "nbconvert_exporter": "python",
   "pygments_lexer": "ipython3",
   "version": "3.11.7"
  }
 },
 "nbformat": 4,
 "nbformat_minor": 2
}
