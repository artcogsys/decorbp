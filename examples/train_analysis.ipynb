{
 "cells": [
  {
   "cell_type": "markdown",
   "metadata": {},
   "source": [
    "Analyses properties of decorrelation and whitening methods for decorrelated networks"
   ]
  },
  {
   "cell_type": "code",
   "execution_count": 1,
   "metadata": {},
   "outputs": [],
   "source": [
    "import numpy as np\n",
    "import torch\n",
    "import torch.nn as nn\n",
    "from decorrelation.decorrelation import Decorrelation, DecorLinear, DecorConv2d\n",
    "import matplotlib.pyplot as plt\n",
    "import matplotlib\n",
    "from torchvision.datasets import MNIST\n",
    "from torchvision import transforms\n",
    "from torch.utils.data import DataLoader, Subset\n",
    "from decorrelation.train import decor_train\n",
    "import argparse\n",
    "\n",
    "# automatic reloading of modules when they change\n",
    "%load_ext autoreload\n",
    "%autoreload 2\n",
    "\n",
    "seed = 42\n",
    "torch.manual_seed(seed)\n",
    "torch.cuda.manual_seed(seed)\n",
    "np.random.seed(seed)\n",
    "\n",
    "device = torch.device(\"cuda:0\" if torch.cuda.is_available() else \"cpu\")"
   ]
  },
  {
   "cell_type": "code",
   "execution_count": 2,
   "metadata": {},
   "outputs": [],
   "source": [
    "transform=transforms.Compose([\n",
    "        transforms.ToTensor(),\n",
    "        transforms.Grayscale(1),\n",
    "        transforms.Normalize((0.5), (0.25)),\n",
    "        # torch.flatten # not necessary but useful for debugging\n",
    "        ])\n",
    "\n",
    "train_data = MNIST(root='~/Data', train=True, download=True, transform=transform)\n",
    "train_data = Subset(train_data, np.random.permutation(len(train_data.data))[:1000])\n",
    "train_loader = DataLoader(train_data, batch_size=64, shuffle=True, num_workers=0, drop_last=True)"
   ]
  },
  {
   "cell_type": "code",
   "execution_count": 7,
   "metadata": {},
   "outputs": [
    {
     "name": "stdout",
     "output_type": "stream",
     "text": [
      "epoch 0  \ttime:0.000 s\tbp loss: 0.000000\tdecorrelation loss: 106.592293\n",
      "epoch 1  \ttime:0.541 s\tbp loss: 0.000000\tdecorrelation loss: 71.298180\n",
      "epoch 2  \ttime:0.545 s\tbp loss: 0.000000\tdecorrelation loss: 28.939163\n",
      "epoch 3  \ttime:0.549 s\tbp loss: 0.000000\tdecorrelation loss: 12.465863\n",
      "epoch 4  \ttime:0.549 s\tbp loss: 0.000000\tdecorrelation loss: 5.836260\n",
      "epoch 5  \ttime:0.545 s\tbp loss: 0.000000\tdecorrelation loss: 3.068482\n",
      "epoch 6  \ttime:0.547 s\tbp loss: 0.000000\tdecorrelation loss: 1.828948\n",
      "epoch 7  \ttime:0.542 s\tbp loss: 0.000000\tdecorrelation loss: 1.282410\n",
      "epoch 8  \ttime:0.543 s\tbp loss: 0.000000\tdecorrelation loss: 1.005300\n",
      "epoch 9  \ttime:0.540 s\tbp loss: 0.000000\tdecorrelation loss: 0.890753\n",
      "epoch 10 \ttime:0.540 s\tbp loss: 0.000000\tdecorrelation loss: 0.824732\n"
     ]
    }
   ],
   "source": [
    "args = argparse.Namespace(lr=0.0, eta=0.3, decor_lr=1e-4, variance=1.0, epochs=10)\n",
    "\n",
    "model = Decorrelation(784, bias=False, eta=args.eta, variance=args.variance).to(device)\n",
    "\n",
    "lossfun = lambda x, y: nn.Parameter(torch.zeros(1, device=device, dtype=float), requires_grad=True)\n",
    "\n",
    "res = decor_train(args, model, lossfun, train_loader, device)"
   ]
  },
  {
   "cell_type": "code",
   "execution_count": 8,
   "metadata": {},
   "outputs": [
    {
     "name": "stdout",
     "output_type": "stream",
     "text": [
      "epoch 0  \ttime:0.000 s\tbp loss: 5.491928\tdecorrelation loss: 106.572433\n",
      "epoch 1  \ttime:0.569 s\tbp loss: 4.314556\tdecorrelation loss: 71.382492\n",
      "epoch 2  \ttime:0.568 s\tbp loss: 2.989045\tdecorrelation loss: 28.873865\n",
      "epoch 3  \ttime:0.567 s\tbp loss: 2.557576\tdecorrelation loss: 12.559443\n",
      "epoch 4  \ttime:0.567 s\tbp loss: 2.350261\tdecorrelation loss: 5.853016\n",
      "epoch 5  \ttime:0.566 s\tbp loss: 2.232522\tdecorrelation loss: 3.052009\n",
      "epoch 6  \ttime:0.568 s\tbp loss: 2.139393\tdecorrelation loss: 1.813134\n",
      "epoch 7  \ttime:0.569 s\tbp loss: 2.077643\tdecorrelation loss: 1.269703\n",
      "epoch 8  \ttime:0.567 s\tbp loss: 2.056343\tdecorrelation loss: 1.004370\n",
      "epoch 9  \ttime:0.566 s\tbp loss: 2.018654\tdecorrelation loss: 0.884865\n",
      "epoch 10 \ttime:0.564 s\tbp loss: 1.939791\tdecorrelation loss: 0.818513\n"
     ]
    }
   ],
   "source": [
    "args = argparse.Namespace(lr=1e-4, eta=0.3, decor_lr=1e-4, variance=1.0, epochs=10)\n",
    "\n",
    "class Model(nn.Sequential):\n",
    "    def __init__(self, in_features, eta, variance):\n",
    "        super().__init__(DecorLinear(in_features, 100, eta=eta, variance=variance))\n",
    "\n",
    "    def forward(self, x):\n",
    "        return super().forward(x.view(len(x), -1))\n",
    "    \n",
    "model = Model(784, eta=args.eta, variance=args.variance).to(device)\n",
    "\n",
    "lossfun = torch.nn.CrossEntropyLoss().to(device)\n",
    "\n",
    "res = decor_train(args, model, lossfun, train_loader, device)"
   ]
  },
  {
   "cell_type": "code",
   "execution_count": 17,
   "metadata": {},
   "outputs": [
    {
     "name": "stdout",
     "output_type": "stream",
     "text": [
      "epoch 0  \ttime:0.000 s\tbp loss: 2.544302\tdecorrelation loss: 109.754143\n",
      "epoch 1  \ttime:0.566 s\tbp loss: 2.414789\tdecorrelation loss: 8.191069\n",
      "epoch 2  \ttime:0.571 s\tbp loss: 2.217825\tdecorrelation loss: 0.575085\n",
      "epoch 3  \ttime:0.570 s\tbp loss: 2.078929\tdecorrelation loss: 0.408783\n",
      "epoch 4  \ttime:0.576 s\tbp loss: 1.962890\tdecorrelation loss: 0.336117\n",
      "epoch 5  \ttime:0.565 s\tbp loss: 1.860005\tdecorrelation loss: 0.304384\n",
      "epoch 6  \ttime:0.564 s\tbp loss: 1.764048\tdecorrelation loss: 0.283378\n",
      "epoch 7  \ttime:0.562 s\tbp loss: 1.667927\tdecorrelation loss: 0.273111\n",
      "epoch 8  \ttime:0.562 s\tbp loss: 1.593011\tdecorrelation loss: 0.264786\n",
      "epoch 9  \ttime:0.560 s\tbp loss: 1.515942\tdecorrelation loss: 0.259102\n",
      "epoch 10 \ttime:0.560 s\tbp loss: 1.447145\tdecorrelation loss: 0.251755\n"
     ]
    }
   ],
   "source": [
    "args = argparse.Namespace(lr=1e-4, eta=0.3, decor_lr=1e-3, variance=None, epochs=10) # FAILS FOR E.G. variance=1.0 at this learning rate\n",
    "\n",
    "class Model(nn.Sequential):\n",
    "    def __init__(self, in_features, eta, variance):\n",
    "        super().__init__(DecorLinear(in_features, 100, bias=False, eta=eta, variance=variance),\n",
    "                        nn.LeakyReLU(),\n",
    "                        DecorLinear(100, 10, bias=False, eta=eta, variance=variance)\n",
    "                        )\n",
    "\n",
    "    def forward(self, x):\n",
    "        return super().forward(x.view(len(x), -1))\n",
    "    \n",
    "model = Model(784, eta=args.eta, variance=args.variance).to(device)\n",
    "\n",
    "lossfun = torch.nn.CrossEntropyLoss().to(device)\n",
    "\n",
    "res = decor_train(args, model, lossfun, train_loader, device)"
   ]
  },
  {
   "cell_type": "code",
   "execution_count": 6,
   "metadata": {},
   "outputs": [],
   "source": [
    "# TO DO: ConvNet\n"
   ]
  },
  {
   "cell_type": "markdown",
   "metadata": {},
   "source": []
  }
 ],
 "metadata": {
  "kernelspec": {
   "display_name": "Python 3",
   "language": "python",
   "name": "python3"
  },
  "language_info": {
   "codemirror_mode": {
    "name": "ipython",
    "version": 3
   },
   "file_extension": ".py",
   "mimetype": "text/x-python",
   "name": "python",
   "nbconvert_exporter": "python",
   "pygments_lexer": "ipython3",
   "version": "3.11.7"
  }
 },
 "nbformat": 4,
 "nbformat_minor": 2
}
