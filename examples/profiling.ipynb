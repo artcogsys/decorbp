{
 "cells": [
  {
   "cell_type": "markdown",
   "metadata": {},
   "source": [
    "Profiling decorrelation and node perturbation"
   ]
  },
  {
   "cell_type": "code",
   "execution_count": 1,
   "metadata": {},
   "outputs": [],
   "source": [
    "import numpy as np\n",
    "import torch\n",
    "import torch.nn as nn\n",
    "from torchvision.datasets import MNIST\n",
    "from torchvision import transforms\n",
    "from torch.utils.data import DataLoader, Subset\n",
    "from node_perturbation.node_perturbation import NPLinear\n",
    "from node_perturbation.utils import np_train\n",
    "from decorrelation.decorrelation import Decorrelation\n",
    "import matplotlib.pyplot as plt\n",
    "import argparse\n",
    "\n",
    "import cProfile\n",
    "import pstats\n",
    "from torch.profiler import profile, record_function, ProfilerActivity\n",
    "\n",
    "device = torch.device(\"cuda:0\" if torch.cuda.is_available() else \"cpu\")\n",
    "\n",
    "seed = 42\n",
    "torch.manual_seed(seed)\n",
    "torch.cuda.manual_seed(seed)\n",
    "np.random.seed(seed)"
   ]
  },
  {
   "cell_type": "code",
   "execution_count": 2,
   "metadata": {},
   "outputs": [],
   "source": [
    "transform=transforms.Compose([\n",
    "        transforms.ToTensor(),\n",
    "        transforms.Grayscale(1),\n",
    "        transforms.Normalize((0.5), (0.5)),\n",
    "        torch.flatten # for input to linear layer\n",
    "        ])\n",
    "\n",
    "train_data = MNIST(root='~/Data', train=True, download=True, transform=transform)\n",
    "train_data = Subset(train_data, np.random.permutation(len(train_data.data))[:1000])\n",
    "train_loader = DataLoader(train_data, batch_size=64, shuffle=True, num_workers=0, drop_last=True)"
   ]
  },
  {
   "cell_type": "code",
   "execution_count": 3,
   "metadata": {},
   "outputs": [
    {
     "name": "stdout",
     "output_type": "stream",
     "text": [
      "epoch 0  \ttime:0.000 s\tbp loss: 5.125478\tdecorrelation loss: 481188928.000000\n",
      "epoch 1  \ttime:0.611 s\tbp loss: nan\tdecorrelation loss: nan\n",
      "epoch 2  \ttime:0.618 s\tbp loss: nan\tdecorrelation loss: nan\n",
      "epoch 3  \ttime:0.615 s\tbp loss: nan\tdecorrelation loss: nan\n",
      "Sun Mar 10 10:16:16 2024    restats\n",
      "\n",
      "         567263 function calls (561911 primitive calls) in 2.114 seconds\n",
      "\n",
      "   Ordered by: cumulative time\n",
      "   List reduced from 335 to 10 due to restriction <10>\n",
      "\n",
      "   ncalls  tottime  percall  cumtime  percall filename:lineno(function)\n",
      "        1    0.000    0.000    2.114    2.114 {built-in method builtins.exec}\n",
      "        1    0.000    0.000    2.114    2.114 <string>:1(<module>)\n",
      "        1    0.007    0.007    2.113    2.113 /Users/marcel.vangerven/Code/github/decorrelation/node_perturbation/utils.py:7(np_train)\n",
      "       45    0.001    0.000    1.213    0.027 /Users/marcel.vangerven/Code/github/decorrelation/decorrelation/decorrelation.py:14(decor_update)\n",
      "       45    1.186    0.026    1.212    0.027 /Users/marcel.vangerven/Code/github/decorrelation/decorrelation/decorrelation.py:84(update)\n",
      "       64    0.001    0.000    0.574    0.009 /Users/marcel.vangerven/Code/environments/pytorch/lib/python3.11/site-packages/torch/utils/data/dataloader.py:626(__next__)\n",
      "       64    0.004    0.000    0.568    0.009 /Users/marcel.vangerven/Code/environments/pytorch/lib/python3.11/site-packages/torch/utils/data/dataloader.py:673(_next_data)\n",
      "       60    0.000    0.000    0.561    0.009 /Users/marcel.vangerven/Code/environments/pytorch/lib/python3.11/site-packages/torch/utils/data/_utils/fetch.py:46(fetch)\n",
      "       60    0.000    0.000    0.552    0.009 /Users/marcel.vangerven/Code/environments/pytorch/lib/python3.11/site-packages/torch/utils/data/dataset.py:393(__getitems__)\n",
      "       60    0.004    0.000    0.552    0.009 /Users/marcel.vangerven/Code/environments/pytorch/lib/python3.11/site-packages/torch/utils/data/dataset.py:399(<listcomp>)\n",
      "\n",
      "\n",
      "Sun Mar 10 10:16:16 2024    restats\n",
      "\n",
      "         567263 function calls (561911 primitive calls) in 2.114 seconds\n",
      "\n",
      "   Ordered by: internal time\n",
      "   List reduced from 335 to 10 due to restriction <10>\n",
      "\n",
      "   ncalls  tottime  percall  cumtime  percall filename:lineno(function)\n",
      "       45    1.186    0.026    1.212    0.027 /Users/marcel.vangerven/Code/github/decorrelation/decorrelation/decorrelation.py:84(update)\n",
      "      120    0.138    0.001    0.138    0.001 {built-in method torch._C._nn.linear}\n",
      "       60    0.052    0.001    0.052    0.001 {built-in method torch.normal}\n",
      "       15    0.046    0.003    0.062    0.004 /Users/marcel.vangerven/Code/github/decorrelation/decorrelation/decorrelation.py:120(loss)\n",
      "     3840    0.046    0.000    0.112    0.000 /Users/marcel.vangerven/Code/environments/pytorch/lib/python3.11/site-packages/torchvision/transforms/_functional_tensor.py:903(normalize)\n",
      "     3840    0.040    0.000    0.548    0.000 /Users/marcel.vangerven/Code/environments/pytorch/lib/python3.11/site-packages/torchvision/datasets/mnist.py:130(__getitem__)\n",
      "     3840    0.030    0.000    0.206    0.000 /Users/marcel.vangerven/Code/environments/pytorch/lib/python3.11/site-packages/torchvision/transforms/functional.py:126(to_tensor)\n",
      "     3840    0.027    0.000    0.027    0.000 {method 'div' of 'torch._C.TensorBase' objects}\n",
      "     7680    0.024    0.000    0.024    0.000 {built-in method torch.as_tensor}\n",
      "     7680    0.023    0.000    0.023    0.000 {method 'clone' of 'torch._C.TensorBase' objects}\n",
      "\n",
      "\n"
     ]
    },
    {
     "data": {
      "text/plain": [
       "<pstats.Stats at 0x13b667f10>"
      ]
     },
     "execution_count": 3,
     "metadata": {},
     "output_type": "execute_result"
    }
   ],
   "source": [
    "args = argparse.Namespace(lr=1e-4, decor_lr=1e-1, bias_lr=0.0, kappa=1e-2, epochs=3, full=True)\n",
    "lossfun = torch.nn.CrossEntropyLoss().to(device)\n",
    "sampler = torch.distributions.Distribution = torch.distributions.Normal(0.0, 1e-3)\n",
    "\n",
    "# model = NPLinear(784, 10, sampler=sampler, device=device)\n",
    "# model, L1, D, T = np_train(args, model, lossfun, train_loader, device)\n",
    "\n",
    "model = nn.Sequential(Decorrelation(784, decor_lr=args.decor_lr, bias_lr=args.bias_lr, kappa=args.kappa, full=args.full), NPLinear(784, 10, sampler=sampler, device=device))\n",
    "\n",
    "cProfile.run('np_train(args, model, lossfun, train_loader, device)', 'restats')\n",
    "p = pstats.Stats('restats')\n",
    "p.sort_stats('cumulative').print_stats(10)\n",
    "p.sort_stats('time').print_stats(10)\n"
   ]
  },
  {
   "cell_type": "markdown",
   "metadata": {},
   "source": [
    "Pytroch profiling. See https://pytorch.org/tutorials/recipes/recipes/profiler_recipe.html for more examples"
   ]
  },
  {
   "cell_type": "code",
   "execution_count": 4,
   "metadata": {},
   "outputs": [
    {
     "name": "stderr",
     "output_type": "stream",
     "text": [
      "STAGE:2024-03-10 10:16:16 8312:7102071 ActivityProfilerController.cpp:314] Completed Stage: Warm Up\n"
     ]
    },
    {
     "name": "stdout",
     "output_type": "stream",
     "text": [
      "epoch 0  \ttime:0.000 s\tbp loss: 5.232002\tdecorrelation loss: 481998592.000000\n",
      "epoch 1  \ttime:0.631 s\tbp loss: nan\tdecorrelation loss: nan\n",
      "epoch 2  \ttime:0.596 s\tbp loss: nan\tdecorrelation loss: nan\n",
      "epoch 3  \ttime:0.598 s\tbp loss: nan\tdecorrelation loss: nan\n"
     ]
    },
    {
     "name": "stderr",
     "output_type": "stream",
     "text": [
      "STAGE:2024-03-10 10:16:19 8312:7102071 ActivityProfilerController.cpp:320] Completed Stage: Collection\n",
      "STAGE:2024-03-10 10:16:19 8312:7102071 ActivityProfilerController.cpp:324] Completed Stage: Post Processing\n"
     ]
    }
   ],
   "source": [
    "args = argparse.Namespace(lr=1e-4, decor_lr=1e-1, bias_lr=0.0, kappa=1e-2, epochs=3, full=True)\n",
    "lossfun = torch.nn.CrossEntropyLoss().to(device)\n",
    "sampler = torch.distributions.Distribution = torch.distributions.Normal(0.0, 1e-3)\n",
    "\n",
    "model = nn.Sequential(Decorrelation(784, decor_lr=args.decor_lr, bias_lr=args.bias_lr, kappa=args.kappa, full=args.full), NPLinear(784, 10, sampler=sampler, device=device))\n",
    "\n",
    "with profile(activities=[ProfilerActivity.CPU], record_shapes=True) as prof:\n",
    "    with record_function(\"model_training\"):\n",
    "        np_train(args, model, lossfun, train_loader, device)"
   ]
  },
  {
   "cell_type": "code",
   "execution_count": null,
   "metadata": {},
   "outputs": [
    {
     "name": "stdout",
     "output_type": "stream",
     "text": [
      "-------------------------------------------------------  ------------  ------------  ------------  ------------  ------------  ------------  \n",
      "                                                   Name    Self CPU %      Self CPU   CPU total %     CPU total  CPU time avg    # of Calls  \n",
      "-------------------------------------------------------  ------------  ------------  ------------  ------------  ------------  ------------  \n",
      "                                         model_training         3.00%      63.646ms       100.00%        2.119s        2.119s             1  \n",
      "                                           aten::matmul         0.06%       1.214ms        61.01%        1.293s       5.747ms           225  \n",
      "                                               aten::mm        60.96%        1.292s        60.96%        1.292s       5.743ms           225  \n",
      "enumerate(DataLoader)#_SingleProcessDataLoaderIter._...        17.48%     370.483ms        26.89%     569.957ms       8.906ms            64  \n",
      "                                           aten::linear         0.04%     771.000us         6.64%     140.681ms       1.172ms           120  \n",
      "                                               aten::to         0.82%      17.321ms         2.76%      58.502ms       2.022us         28937  \n",
      "                                           aten::normal         1.71%      36.165ms         2.49%      52.830ms     880.500us            60  \n",
      "                                         aten::_to_copy         1.72%      36.449ms         2.22%      47.008ms       3.623us         12975  \n",
      "                                              aten::div         1.36%      28.750ms         2.08%      44.026ms      10.712us          4110  \n",
      "                                              aten::mul         1.47%      31.099ms         1.67%      35.413ms      65.580us           540  \n",
      "-------------------------------------------------------  ------------  ------------  ------------  ------------  ------------  ------------  \n",
      "Self CPU time total: 2.119s\n",
      "\n"
     ]
    }
   ],
   "source": [
    "print(prof.key_averages().table(sort_by=\"cpu_time_total\", row_limit=10))"
   ]
  },
  {
   "cell_type": "code",
   "execution_count": null,
   "metadata": {},
   "outputs": [
    {
     "name": "stdout",
     "output_type": "stream",
     "text": [
      "-------------------------------------------------------  ------------  ------------  ------------  ------------  ------------  ------------  -------------------------------------------  \n",
      "                                                   Name    Self CPU %      Self CPU   CPU total %     CPU total  CPU time avg    # of Calls                                 Input Shapes  \n",
      "-------------------------------------------------------  ------------  ------------  ------------  ------------  ------------  ------------  -------------------------------------------  \n",
      "                                         model_training         3.00%      63.646ms       100.00%        2.119s        2.119s             1                                           []  \n",
      "                                           aten::matmul         0.02%     417.000us        48.79%        1.034s      22.980ms            45                     [[784, 784], [784, 784]]  \n",
      "                                               aten::mm        48.77%        1.034s        48.77%        1.034s      22.971ms            45                     [[784, 784], [784, 784]]  \n",
      "enumerate(DataLoader)#_SingleProcessDataLoaderIter._...        17.48%     370.483ms        26.89%     569.957ms       8.906ms            64                                           []  \n",
      "                                           aten::linear         0.02%     438.000us         6.32%     133.951ms       2.233ms            60                  [[64, 784], [784, 784], []]  \n",
      "                                           aten::matmul         0.02%     354.000us         6.27%     132.988ms       2.216ms            60                      [[64, 784], [784, 784]]  \n",
      "                                               aten::mm         6.26%     132.634ms         6.26%     132.634ms       2.211ms            60                      [[64, 784], [784, 784]]  \n",
      "                                           aten::matmul         0.01%     143.000us         5.79%     122.660ms       2.044ms            60                       [[784, 64], [64, 784]]  \n",
      "                                               aten::mm         5.78%     122.517ms         5.78%     122.517ms       2.042ms            60                       [[784, 64], [64, 784]]  \n",
      "                                           aten::normal         1.71%      36.165ms         2.49%      52.830ms     880.500us            60                   [[64, 784], [64, 784], []]  \n",
      "-------------------------------------------------------  ------------  ------------  ------------  ------------  ------------  ------------  -------------------------------------------  \n",
      "Self CPU time total: 2.119s\n",
      "\n"
     ]
    }
   ],
   "source": [
    "print(prof.key_averages(group_by_input_shape=True).table(sort_by=\"cpu_time_total\", row_limit=10))"
   ]
  },
  {
   "cell_type": "code",
   "execution_count": null,
   "metadata": {},
   "outputs": [],
   "source": []
  }
 ],
 "metadata": {
  "kernelspec": {
   "display_name": "Python 3",
   "language": "python",
   "name": "python3"
  },
  "language_info": {
   "codemirror_mode": {
    "name": "ipython",
    "version": 3
   },
   "file_extension": ".py",
   "mimetype": "text/x-python",
   "name": "python",
   "nbconvert_exporter": "python",
   "pygments_lexer": "ipython3",
   "version": "3.11.7"
  }
 },
 "nbformat": 4,
 "nbformat_minor": 2
}
