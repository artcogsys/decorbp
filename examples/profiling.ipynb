{
 "cells": [
  {
   "cell_type": "markdown",
   "metadata": {},
   "source": [
    "Profiling decorrelation and node perturbation"
   ]
  },
  {
   "cell_type": "code",
   "execution_count": 6,
   "metadata": {},
   "outputs": [],
   "source": [
    "import numpy as np\n",
    "import torch\n",
    "import torch.nn as nn\n",
    "from torchvision.datasets import MNIST\n",
    "from torchvision import transforms\n",
    "from torch.utils.data import DataLoader, Subset\n",
    "from node_perturbation.node_perturbation import NPLinear\n",
    "from node_perturbation.utils import np_train\n",
    "from decorrelation.utils import decor_train\n",
    "from decorrelation.decorrelation import Decorrelation, DecorLinear\n",
    "import matplotlib.pyplot as plt\n",
    "import argparse\n",
    "\n",
    "import cProfile\n",
    "import pstats\n",
    "from torch.profiler import profile, record_function, ProfilerActivity\n",
    "\n",
    "device = torch.device(\"cuda:0\" if torch.cuda.is_available() else \"cpu\")\n",
    "\n",
    "seed = 42\n",
    "torch.manual_seed(seed)\n",
    "torch.cuda.manual_seed(seed)\n",
    "np.random.seed(seed)"
   ]
  },
  {
   "cell_type": "markdown",
   "metadata": {},
   "source": [
    "Testing the effect of decprrelating after larger intervals"
   ]
  },
  {
   "cell_type": "code",
   "execution_count": 3,
   "metadata": {},
   "outputs": [],
   "source": [
    "transform=transforms.Compose([\n",
    "        transforms.ToTensor(),\n",
    "        transforms.Grayscale(1),\n",
    "        transforms.Normalize((0.5), (0.5)),\n",
    "        torch.flatten # for input to linear layer\n",
    "        ])\n",
    "\n",
    "train_data = MNIST(root='~/Data', train=True, download=True, transform=transform)\n",
    "train_data = Subset(train_data, np.random.permutation(len(train_data.data))[:1000])\n",
    "train_loader = DataLoader(train_data, batch_size=64, shuffle=True, num_workers=0, drop_last=True)"
   ]
  },
  {
   "cell_type": "code",
   "execution_count": 17,
   "metadata": {},
   "outputs": [
    {
     "name": "stdout",
     "output_type": "stream",
     "text": [
      "epoch 0  \ttime:0.000 s\tbp loss: 4.936367\tdecorrelation loss: 6.581284\n",
      "epoch 1  \ttime:0.564 s\tbp loss: 4.407383\tdecorrelation loss: 2.376971\n",
      "epoch 2  \ttime:0.571 s\tbp loss: 3.798684\tdecorrelation loss: 0.515520\n",
      "epoch 3  \ttime:0.570 s\tbp loss: 3.451408\tdecorrelation loss: 0.262065\n",
      "epoch 4  \ttime:0.567 s\tbp loss: 3.213826\tdecorrelation loss: 0.173414\n",
      "epoch 5  \ttime:0.575 s\tbp loss: 3.010409\tdecorrelation loss: 0.132037\n",
      "epoch 6  \ttime:0.559 s\tbp loss: 2.837193\tdecorrelation loss: 0.109211\n",
      "epoch 7  \ttime:0.555 s\tbp loss: 2.689010\tdecorrelation loss: 0.097512\n",
      "epoch 8  \ttime:0.570 s\tbp loss: 2.537649\tdecorrelation loss: 0.088141\n",
      "epoch 9  \ttime:0.560 s\tbp loss: 2.407167\tdecorrelation loss: 0.084132\n",
      "epoch 10 \ttime:0.564 s\tbp loss: 2.289983\tdecorrelation loss: 0.079693\n",
      "epoch 11 \ttime:0.564 s\tbp loss: 2.182085\tdecorrelation loss: 0.076153\n",
      "epoch 12 \ttime:0.564 s\tbp loss: 2.072193\tdecorrelation loss: 0.074996\n",
      "epoch 13 \ttime:0.566 s\tbp loss: 1.975017\tdecorrelation loss: 0.074749\n",
      "epoch 14 \ttime:0.571 s\tbp loss: 1.887203\tdecorrelation loss: 0.073845\n",
      "epoch 15 \ttime:0.556 s\tbp loss: 1.799265\tdecorrelation loss: 0.073282\n",
      "epoch 16 \ttime:0.559 s\tbp loss: 1.720858\tdecorrelation loss: 0.074528\n",
      "epoch 17 \ttime:0.558 s\tbp loss: 1.649215\tdecorrelation loss: 0.073503\n",
      "epoch 18 \ttime:0.555 s\tbp loss: 1.586487\tdecorrelation loss: 0.074022\n",
      "epoch 19 \ttime:0.559 s\tbp loss: 1.512845\tdecorrelation loss: 0.075656\n",
      "epoch 20 \ttime:0.560 s\tbp loss: 1.454862\tdecorrelation loss: 0.076271\n",
      "epoch 0  \ttime:0.000 s\tbp loss: 1.429984\tdecorrelation loss: 0.076272\n",
      "epoch 1  \ttime:0.155 s\tbp loss: 1.371118\tdecorrelation loss: 0.000000\n",
      "epoch 2  \ttime:0.170 s\tbp loss: 1.259851\tdecorrelation loss: 0.000000\n",
      "epoch 3  \ttime:0.565 s\tbp loss: 1.175251\tdecorrelation loss: 0.076626\n",
      "epoch 4  \ttime:0.162 s\tbp loss: 1.111642\tdecorrelation loss: 0.000000\n",
      "epoch 5  \ttime:0.165 s\tbp loss: 1.056662\tdecorrelation loss: 0.000000\n",
      "epoch 6  \ttime:0.571 s\tbp loss: 1.003128\tdecorrelation loss: 0.078190\n",
      "epoch 7  \ttime:0.155 s\tbp loss: 0.955952\tdecorrelation loss: 0.000000\n",
      "epoch 8  \ttime:0.156 s\tbp loss: 0.920313\tdecorrelation loss: 0.000000\n",
      "epoch 9  \ttime:0.556 s\tbp loss: 0.891907\tdecorrelation loss: 0.078815\n",
      "epoch 10 \ttime:0.170 s\tbp loss: 0.860999\tdecorrelation loss: 0.000000\n",
      "epoch 11 \ttime:0.164 s\tbp loss: 0.827702\tdecorrelation loss: 0.000000\n",
      "epoch 12 \ttime:0.561 s\tbp loss: 0.800383\tdecorrelation loss: 0.080670\n",
      "epoch 13 \ttime:0.152 s\tbp loss: 0.776154\tdecorrelation loss: 0.000000\n",
      "epoch 14 \ttime:0.153 s\tbp loss: 0.760909\tdecorrelation loss: 0.000000\n",
      "epoch 15 \ttime:0.555 s\tbp loss: 0.730807\tdecorrelation loss: 0.082492\n",
      "epoch 16 \ttime:0.151 s\tbp loss: 0.716586\tdecorrelation loss: 0.000000\n",
      "epoch 17 \ttime:0.153 s\tbp loss: 0.692163\tdecorrelation loss: 0.000000\n",
      "epoch 18 \ttime:0.554 s\tbp loss: 0.681322\tdecorrelation loss: 0.083317\n",
      "epoch 19 \ttime:0.154 s\tbp loss: 0.662660\tdecorrelation loss: 0.000000\n",
      "epoch 20 \ttime:0.167 s\tbp loss: 0.652019\tdecorrelation loss: 0.000000\n",
      "epoch 0  \ttime:0.000 s\tbp loss: 0.638926\tdecorrelation loss: 0.083622\n",
      "epoch 1  \ttime:0.163 s\tbp loss: 0.629810\tdecorrelation loss: 0.000000\n",
      "epoch 2  \ttime:0.162 s\tbp loss: 0.614791\tdecorrelation loss: 0.000000\n",
      "epoch 3  \ttime:0.161 s\tbp loss: 0.593107\tdecorrelation loss: 0.000000\n",
      "epoch 4  \ttime:0.156 s\tbp loss: 0.575081\tdecorrelation loss: 0.000000\n",
      "epoch 5  \ttime:0.557 s\tbp loss: 0.556795\tdecorrelation loss: 0.084566\n",
      "epoch 6  \ttime:0.149 s\tbp loss: 0.547694\tdecorrelation loss: 0.000000\n",
      "epoch 7  \ttime:0.147 s\tbp loss: 0.535851\tdecorrelation loss: 0.000000\n",
      "epoch 8  \ttime:0.149 s\tbp loss: 0.524401\tdecorrelation loss: 0.000000\n",
      "epoch 9  \ttime:0.154 s\tbp loss: 0.512943\tdecorrelation loss: 0.000000\n",
      "epoch 10 \ttime:0.555 s\tbp loss: 0.499893\tdecorrelation loss: 0.086453\n",
      "epoch 11 \ttime:0.151 s\tbp loss: 0.493311\tdecorrelation loss: 0.000000\n",
      "epoch 12 \ttime:0.151 s\tbp loss: 0.480936\tdecorrelation loss: 0.000000\n",
      "epoch 13 \ttime:0.151 s\tbp loss: 0.473837\tdecorrelation loss: 0.000000\n",
      "epoch 14 \ttime:0.150 s\tbp loss: 0.460886\tdecorrelation loss: 0.000000\n",
      "epoch 15 \ttime:0.556 s\tbp loss: 0.454935\tdecorrelation loss: 0.088295\n",
      "epoch 16 \ttime:0.153 s\tbp loss: 0.448715\tdecorrelation loss: 0.000000\n",
      "epoch 17 \ttime:0.154 s\tbp loss: 0.437443\tdecorrelation loss: 0.000000\n",
      "epoch 18 \ttime:0.149 s\tbp loss: 0.433510\tdecorrelation loss: 0.000000\n",
      "epoch 19 \ttime:0.156 s\tbp loss: 0.423374\tdecorrelation loss: 0.000000\n",
      "epoch 20 \ttime:0.555 s\tbp loss: 0.423816\tdecorrelation loss: 0.090292\n",
      "epoch 0  \ttime:0.000 s\tbp loss: 0.413450\tdecorrelation loss: 0.090135\n",
      "epoch 1  \ttime:0.151 s\tbp loss: 0.410687\tdecorrelation loss: 0.000000\n",
      "epoch 2  \ttime:0.149 s\tbp loss: 0.397106\tdecorrelation loss: 0.000000\n",
      "epoch 3  \ttime:0.151 s\tbp loss: 0.392435\tdecorrelation loss: 0.000000\n",
      "epoch 4  \ttime:0.146 s\tbp loss: 0.381713\tdecorrelation loss: 0.000000\n",
      "epoch 5  \ttime:0.148 s\tbp loss: 0.379685\tdecorrelation loss: 0.000000\n",
      "epoch 6  \ttime:0.151 s\tbp loss: 0.374731\tdecorrelation loss: 0.000000\n",
      "epoch 7  \ttime:0.553 s\tbp loss: 0.363357\tdecorrelation loss: 0.091673\n",
      "epoch 8  \ttime:0.152 s\tbp loss: 0.355653\tdecorrelation loss: 0.000000\n",
      "epoch 9  \ttime:0.153 s\tbp loss: 0.351570\tdecorrelation loss: 0.000000\n",
      "epoch 10 \ttime:0.153 s\tbp loss: 0.345581\tdecorrelation loss: 0.000000\n",
      "epoch 11 \ttime:0.150 s\tbp loss: 0.339609\tdecorrelation loss: 0.000000\n",
      "epoch 12 \ttime:0.153 s\tbp loss: 0.340090\tdecorrelation loss: 0.000000\n",
      "epoch 13 \ttime:0.150 s\tbp loss: 0.327676\tdecorrelation loss: 0.000000\n",
      "epoch 14 \ttime:0.553 s\tbp loss: 0.329698\tdecorrelation loss: 0.093542\n",
      "epoch 15 \ttime:0.155 s\tbp loss: 0.322958\tdecorrelation loss: 0.000000\n",
      "epoch 16 \ttime:0.162 s\tbp loss: 0.313336\tdecorrelation loss: 0.000000\n",
      "epoch 17 \ttime:0.150 s\tbp loss: 0.304410\tdecorrelation loss: 0.000000\n",
      "epoch 18 \ttime:0.151 s\tbp loss: 0.309998\tdecorrelation loss: 0.000000\n",
      "epoch 19 \ttime:0.149 s\tbp loss: 0.303495\tdecorrelation loss: 0.000000\n",
      "epoch 20 \ttime:0.150 s\tbp loss: 0.296615\tdecorrelation loss: 0.000000\n",
      "epoch 0  \ttime:0.000 s\tbp loss: 0.298599\tdecorrelation loss: 0.093599\n",
      "epoch 1  \ttime:0.151 s\tbp loss: 0.302021\tdecorrelation loss: 0.000000\n",
      "epoch 2  \ttime:0.147 s\tbp loss: 0.286164\tdecorrelation loss: 0.000000\n",
      "epoch 3  \ttime:0.144 s\tbp loss: 0.288608\tdecorrelation loss: 0.000000\n",
      "epoch 4  \ttime:0.145 s\tbp loss: 0.277662\tdecorrelation loss: 0.000000\n",
      "epoch 5  \ttime:0.144 s\tbp loss: 0.281783\tdecorrelation loss: 0.000000\n",
      "epoch 6  \ttime:0.142 s\tbp loss: 0.272519\tdecorrelation loss: 0.000000\n",
      "epoch 7  \ttime:0.144 s\tbp loss: 0.269949\tdecorrelation loss: 0.000000\n",
      "epoch 8  \ttime:0.144 s\tbp loss: 0.269139\tdecorrelation loss: 0.000000\n",
      "epoch 9  \ttime:0.543 s\tbp loss: 0.266449\tdecorrelation loss: 0.093884\n",
      "epoch 10 \ttime:0.143 s\tbp loss: 0.257616\tdecorrelation loss: 0.000000\n",
      "epoch 11 \ttime:0.146 s\tbp loss: 0.253796\tdecorrelation loss: 0.000000\n",
      "epoch 12 \ttime:0.143 s\tbp loss: 0.250762\tdecorrelation loss: 0.000000\n",
      "epoch 13 \ttime:0.146 s\tbp loss: 0.245053\tdecorrelation loss: 0.000000\n",
      "epoch 14 \ttime:0.142 s\tbp loss: 0.243881\tdecorrelation loss: 0.000000\n",
      "epoch 15 \ttime:0.144 s\tbp loss: 0.244067\tdecorrelation loss: 0.000000\n",
      "epoch 16 \ttime:0.148 s\tbp loss: 0.243420\tdecorrelation loss: 0.000000\n",
      "epoch 17 \ttime:0.146 s\tbp loss: 0.237145\tdecorrelation loss: 0.000000\n",
      "epoch 18 \ttime:0.540 s\tbp loss: 0.233469\tdecorrelation loss: 0.097154\n",
      "epoch 19 \ttime:0.143 s\tbp loss: 0.229781\tdecorrelation loss: 0.000000\n",
      "epoch 20 \ttime:0.144 s\tbp loss: 0.223083\tdecorrelation loss: 0.000000\n",
      "epoch 0  \ttime:0.000 s\tbp loss: 0.225632\tdecorrelation loss: 0.097443\n",
      "epoch 1  \ttime:0.144 s\tbp loss: 0.224763\tdecorrelation loss: 0.000000\n",
      "epoch 2  \ttime:0.142 s\tbp loss: 0.220822\tdecorrelation loss: 0.000000\n",
      "epoch 3  \ttime:0.144 s\tbp loss: 0.216592\tdecorrelation loss: 0.000000\n",
      "epoch 4  \ttime:0.143 s\tbp loss: 0.216853\tdecorrelation loss: 0.000000\n",
      "epoch 5  \ttime:0.144 s\tbp loss: 0.213416\tdecorrelation loss: 0.000000\n",
      "epoch 6  \ttime:0.144 s\tbp loss: 0.209403\tdecorrelation loss: 0.000000\n",
      "epoch 7  \ttime:0.144 s\tbp loss: 0.203627\tdecorrelation loss: 0.000000\n",
      "epoch 8  \ttime:0.142 s\tbp loss: 0.203974\tdecorrelation loss: 0.000000\n",
      "epoch 9  \ttime:0.144 s\tbp loss: 0.201921\tdecorrelation loss: 0.000000\n",
      "epoch 10 \ttime:0.143 s\tbp loss: 0.199868\tdecorrelation loss: 0.000000\n",
      "epoch 11 \ttime:0.539 s\tbp loss: 0.197055\tdecorrelation loss: 0.099027\n",
      "epoch 12 \ttime:0.142 s\tbp loss: 0.190338\tdecorrelation loss: 0.000000\n",
      "epoch 13 \ttime:0.145 s\tbp loss: 0.190038\tdecorrelation loss: 0.000000\n",
      "epoch 14 \ttime:0.143 s\tbp loss: 0.185546\tdecorrelation loss: 0.000000\n",
      "epoch 15 \ttime:0.144 s\tbp loss: 0.185230\tdecorrelation loss: 0.000000\n",
      "epoch 16 \ttime:0.144 s\tbp loss: 0.183785\tdecorrelation loss: 0.000000\n",
      "epoch 17 \ttime:0.144 s\tbp loss: 0.180566\tdecorrelation loss: 0.000000\n",
      "epoch 18 \ttime:0.143 s\tbp loss: 0.181893\tdecorrelation loss: 0.000000\n",
      "epoch 19 \ttime:0.145 s\tbp loss: 0.177721\tdecorrelation loss: 0.000000\n",
      "epoch 20 \ttime:0.142 s\tbp loss: 0.176835\tdecorrelation loss: 0.000000\n",
      "epoch 0  \ttime:0.000 s\tbp loss: 0.173088\tdecorrelation loss: 0.098753\n",
      "epoch 1  \ttime:0.144 s\tbp loss: 0.173682\tdecorrelation loss: 0.000000\n",
      "epoch 2  \ttime:0.145 s\tbp loss: 0.169091\tdecorrelation loss: 0.000000\n",
      "epoch 3  \ttime:0.152 s\tbp loss: 0.169281\tdecorrelation loss: 0.000000\n",
      "epoch 4  \ttime:0.168 s\tbp loss: 0.168235\tdecorrelation loss: 0.000000\n",
      "epoch 5  \ttime:0.147 s\tbp loss: 0.163397\tdecorrelation loss: 0.000000\n",
      "epoch 6  \ttime:0.145 s\tbp loss: 0.164229\tdecorrelation loss: 0.000000\n",
      "epoch 7  \ttime:0.143 s\tbp loss: 0.159826\tdecorrelation loss: 0.000000\n",
      "epoch 8  \ttime:0.145 s\tbp loss: 0.158929\tdecorrelation loss: 0.000000\n",
      "epoch 9  \ttime:0.143 s\tbp loss: 0.157696\tdecorrelation loss: 0.000000\n",
      "epoch 10 \ttime:0.145 s\tbp loss: 0.155618\tdecorrelation loss: 0.000000\n",
      "epoch 11 \ttime:0.143 s\tbp loss: 0.154510\tdecorrelation loss: 0.000000\n",
      "epoch 12 \ttime:0.145 s\tbp loss: 0.153701\tdecorrelation loss: 0.000000\n",
      "epoch 13 \ttime:0.542 s\tbp loss: 0.148011\tdecorrelation loss: 0.100091\n",
      "epoch 14 \ttime:0.144 s\tbp loss: 0.147254\tdecorrelation loss: 0.000000\n",
      "epoch 15 \ttime:0.145 s\tbp loss: 0.145198\tdecorrelation loss: 0.000000\n",
      "epoch 16 \ttime:0.144 s\tbp loss: 0.145492\tdecorrelation loss: 0.000000\n",
      "epoch 17 \ttime:0.144 s\tbp loss: 0.141852\tdecorrelation loss: 0.000000\n",
      "epoch 18 \ttime:0.143 s\tbp loss: 0.140233\tdecorrelation loss: 0.000000\n",
      "epoch 19 \ttime:0.145 s\tbp loss: 0.136405\tdecorrelation loss: 0.000000\n",
      "epoch 20 \ttime:0.144 s\tbp loss: 0.136367\tdecorrelation loss: 0.000000\n",
      "epoch 0  \ttime:0.000 s\tbp loss: 0.136337\tdecorrelation loss: 0.100636\n",
      "epoch 1  \ttime:0.148 s\tbp loss: 0.135555\tdecorrelation loss: 0.000000\n",
      "epoch 2  \ttime:0.149 s\tbp loss: 0.134649\tdecorrelation loss: 0.000000\n",
      "epoch 3  \ttime:0.145 s\tbp loss: 0.132758\tdecorrelation loss: 0.000000\n",
      "epoch 4  \ttime:0.144 s\tbp loss: 0.131534\tdecorrelation loss: 0.000000\n",
      "epoch 5  \ttime:0.143 s\tbp loss: 0.129488\tdecorrelation loss: 0.000000\n",
      "epoch 6  \ttime:0.144 s\tbp loss: 0.128377\tdecorrelation loss: 0.000000\n",
      "epoch 7  \ttime:0.143 s\tbp loss: 0.126846\tdecorrelation loss: 0.000000\n",
      "epoch 8  \ttime:0.145 s\tbp loss: 0.123248\tdecorrelation loss: 0.000000\n",
      "epoch 9  \ttime:0.143 s\tbp loss: 0.123458\tdecorrelation loss: 0.000000\n",
      "epoch 10 \ttime:0.145 s\tbp loss: 0.124170\tdecorrelation loss: 0.000000\n",
      "epoch 11 \ttime:0.143 s\tbp loss: 0.122242\tdecorrelation loss: 0.000000\n",
      "epoch 12 \ttime:0.145 s\tbp loss: 0.120620\tdecorrelation loss: 0.000000\n",
      "epoch 13 \ttime:0.143 s\tbp loss: 0.119324\tdecorrelation loss: 0.000000\n",
      "epoch 14 \ttime:0.147 s\tbp loss: 0.118391\tdecorrelation loss: 0.000000\n",
      "epoch 15 \ttime:0.557 s\tbp loss: 0.115341\tdecorrelation loss: 0.100937\n",
      "epoch 16 \ttime:0.152 s\tbp loss: 0.113486\tdecorrelation loss: 0.000000\n",
      "epoch 17 \ttime:0.147 s\tbp loss: 0.110915\tdecorrelation loss: 0.000000\n",
      "epoch 18 \ttime:0.146 s\tbp loss: 0.109651\tdecorrelation loss: 0.000000\n",
      "epoch 19 \ttime:0.151 s\tbp loss: 0.108968\tdecorrelation loss: 0.000000\n",
      "epoch 20 \ttime:0.151 s\tbp loss: 0.107151\tdecorrelation loss: 0.000000\n",
      "epoch 0  \ttime:0.000 s\tbp loss: 0.108535\tdecorrelation loss: 0.102585\n",
      "epoch 1  \ttime:0.147 s\tbp loss: 0.105641\tdecorrelation loss: 0.000000\n",
      "epoch 2  \ttime:0.150 s\tbp loss: 0.107476\tdecorrelation loss: 0.000000\n",
      "epoch 3  \ttime:0.145 s\tbp loss: 0.105598\tdecorrelation loss: 0.000000\n",
      "epoch 4  \ttime:0.145 s\tbp loss: 0.103651\tdecorrelation loss: 0.000000\n",
      "epoch 5  \ttime:0.150 s\tbp loss: 0.101420\tdecorrelation loss: 0.000000\n",
      "epoch 6  \ttime:0.154 s\tbp loss: 0.102048\tdecorrelation loss: 0.000000\n",
      "epoch 7  \ttime:0.149 s\tbp loss: 0.100171\tdecorrelation loss: 0.000000\n",
      "epoch 8  \ttime:0.148 s\tbp loss: 0.097883\tdecorrelation loss: 0.000000\n",
      "epoch 9  \ttime:0.147 s\tbp loss: 0.097489\tdecorrelation loss: 0.000000\n",
      "epoch 10 \ttime:0.146 s\tbp loss: 0.095236\tdecorrelation loss: 0.000000\n",
      "epoch 11 \ttime:0.145 s\tbp loss: 0.093652\tdecorrelation loss: 0.000000\n",
      "epoch 12 \ttime:0.146 s\tbp loss: 0.095165\tdecorrelation loss: 0.000000\n",
      "epoch 13 \ttime:0.147 s\tbp loss: 0.093218\tdecorrelation loss: 0.000000\n",
      "epoch 14 \ttime:0.148 s\tbp loss: 0.094403\tdecorrelation loss: 0.000000\n",
      "epoch 15 \ttime:0.144 s\tbp loss: 0.090440\tdecorrelation loss: 0.000000\n",
      "epoch 16 \ttime:0.146 s\tbp loss: 0.090615\tdecorrelation loss: 0.000000\n",
      "epoch 17 \ttime:0.543 s\tbp loss: 0.089005\tdecorrelation loss: 0.104006\n",
      "epoch 18 \ttime:0.147 s\tbp loss: 0.088641\tdecorrelation loss: 0.000000\n",
      "epoch 19 \ttime:0.149 s\tbp loss: 0.087094\tdecorrelation loss: 0.000000\n",
      "epoch 20 \ttime:0.151 s\tbp loss: 0.086466\tdecorrelation loss: 0.000000\n",
      "epoch 0  \ttime:0.000 s\tbp loss: 0.083885\tdecorrelation loss: 0.104249\n",
      "epoch 1  \ttime:0.149 s\tbp loss: 0.084279\tdecorrelation loss: 0.000000\n",
      "epoch 2  \ttime:0.145 s\tbp loss: 0.082355\tdecorrelation loss: 0.000000\n",
      "epoch 3  \ttime:0.146 s\tbp loss: 0.083588\tdecorrelation loss: 0.000000\n",
      "epoch 4  \ttime:0.147 s\tbp loss: 0.082888\tdecorrelation loss: 0.000000\n",
      "epoch 5  \ttime:0.146 s\tbp loss: 0.080614\tdecorrelation loss: 0.000000\n",
      "epoch 6  \ttime:0.146 s\tbp loss: 0.079392\tdecorrelation loss: 0.000000\n",
      "epoch 7  \ttime:0.148 s\tbp loss: 0.079883\tdecorrelation loss: 0.000000\n",
      "epoch 8  \ttime:0.153 s\tbp loss: 0.079157\tdecorrelation loss: 0.000000\n",
      "epoch 9  \ttime:0.151 s\tbp loss: 0.078146\tdecorrelation loss: 0.000000\n",
      "epoch 10 \ttime:0.151 s\tbp loss: 0.076917\tdecorrelation loss: 0.000000\n",
      "epoch 11 \ttime:0.149 s\tbp loss: 0.073537\tdecorrelation loss: 0.000000\n",
      "epoch 12 \ttime:0.151 s\tbp loss: 0.074017\tdecorrelation loss: 0.000000\n",
      "epoch 13 \ttime:0.153 s\tbp loss: 0.075224\tdecorrelation loss: 0.000000\n",
      "epoch 14 \ttime:0.155 s\tbp loss: 0.074936\tdecorrelation loss: 0.000000\n",
      "epoch 15 \ttime:0.154 s\tbp loss: 0.073419\tdecorrelation loss: 0.000000\n",
      "epoch 16 \ttime:0.154 s\tbp loss: 0.071870\tdecorrelation loss: 0.000000\n",
      "epoch 17 \ttime:0.148 s\tbp loss: 0.071442\tdecorrelation loss: 0.000000\n",
      "epoch 18 \ttime:0.145 s\tbp loss: 0.070669\tdecorrelation loss: 0.000000\n",
      "epoch 19 \ttime:0.565 s\tbp loss: 0.068926\tdecorrelation loss: 0.105142\n",
      "epoch 20 \ttime:0.152 s\tbp loss: 0.068546\tdecorrelation loss: 0.000000\n"
     ]
    }
   ],
   "source": [
    "args = argparse.Namespace(lr=1e-4, decor_lr=1e-1, bias_lr=0.0, kappa=1e-2, epochs=20)\n",
    "\n",
    "class Model(nn.Sequential):\n",
    "    def __init__(self, in_features, args):\n",
    "        super().__init__(DecorLinear(in_features, 100, decor_lr=args.decor_lr, bias_lr=args.bias_lr, kappa=args.kappa))\n",
    "\n",
    "    def forward(self, x):\n",
    "        return super().forward(x.view(len(x), -1))\n",
    "    \n",
    "model = Model(784, args).to(device)\n",
    "\n",
    "lossfun = torch.nn.CrossEntropyLoss().to(device)\n",
    "\n",
    "intervals = np.arange(1, 20, 2)\n",
    "L = torch.zeros(len(intervals))\n",
    "for i, interval in enumerate(intervals):\n",
    "    res = decor_train(args, model, lossfun, train_loader, device, interval=interval)\n",
    "    L[i] = res[1][-1]"
   ]
  },
  {
   "cell_type": "code",
   "execution_count": 18,
   "metadata": {},
   "outputs": [
    {
     "data": {
      "text/plain": [
       "Text(0, 0.5, 'loss')"
      ]
     },
     "execution_count": 18,
     "metadata": {},
     "output_type": "execute_result"
    },
    {
     "data": {
      "image/png": "[encoded data removed]",
      "text/plain": [
       "<Figure size 640x480 with 1 Axes>"
      ]
     },
     "metadata": {},
     "output_type": "display_data"
    }
   ],
   "source": [
    "plt.plot(intervals, L)\n",
    "plt.xlabel('interval')\n",
    "plt.ylabel('loss')\n",
    "# WHY DONT WE OBSERVE THE IMPROVEMENT? COMPARE WITH BP!"
   ]
  },
  {
   "cell_type": "markdown",
   "metadata": {},
   "source": [
    "Profiling node perturbation"
   ]
  },
  {
   "cell_type": "code",
   "execution_count": 3,
   "metadata": {},
   "outputs": [
    {
     "name": "stdout",
     "output_type": "stream",
     "text": [
      "epoch 0  \ttime:0.000 s\tbp loss: 5.125478\tdecorrelation loss: 6.575234\n",
      "epoch 1  \ttime:0.611 s\tbp loss: 5.028853\tdecorrelation loss: 2.408464\n",
      "epoch 2  \ttime:0.603 s\tbp loss: 4.923016\tdecorrelation loss: 0.571336\n",
      "epoch 3  \ttime:0.618 s\tbp loss: 4.878056\tdecorrelation loss: 0.326010\n",
      "Sun Mar 10 10:16:36 2024    restats\n",
      "\n",
      "         565799 function calls (560447 primitive calls) in 2.097 seconds\n",
      "\n",
      "   Ordered by: cumulative time\n",
      "   List reduced from 332 to 10 due to restriction <10>\n",
      "\n",
      "   ncalls  tottime  percall  cumtime  percall filename:lineno(function)\n",
      "        1    0.000    0.000    2.097    2.097 {built-in method builtins.exec}\n",
      "        1    0.000    0.000    2.097    2.097 <string>:1(<module>)\n",
      "        1    0.007    0.007    2.097    2.097 /Users/marcel.vangerven/Code/github/decorrelation/node_perturbation/utils.py:7(np_train)\n",
      "       45    0.001    0.000    1.205    0.027 /Users/marcel.vangerven/Code/github/decorrelation/decorrelation/decorrelation.py:14(decor_update)\n",
      "       45    1.182    0.026    1.205    0.027 /Users/marcel.vangerven/Code/github/decorrelation/decorrelation/decorrelation.py:84(update)\n",
      "       64    0.001    0.000    0.577    0.009 /Users/marcel.vangerven/Code/environments/pytorch/lib/python3.11/site-packages/torch/utils/data/dataloader.py:626(__next__)\n",
      "       64    0.004    0.000    0.571    0.009 /Users/marcel.vangerven/Code/environments/pytorch/lib/python3.11/site-packages/torch/utils/data/dataloader.py:673(_next_data)\n",
      "       60    0.000    0.000    0.564    0.009 /Users/marcel.vangerven/Code/environments/pytorch/lib/python3.11/site-packages/torch/utils/data/_utils/fetch.py:46(fetch)\n",
      "       60    0.000    0.000    0.555    0.009 /Users/marcel.vangerven/Code/environments/pytorch/lib/python3.11/site-packages/torch/utils/data/dataset.py:393(__getitems__)\n",
      "       60    0.004    0.000    0.555    0.009 /Users/marcel.vangerven/Code/environments/pytorch/lib/python3.11/site-packages/torch/utils/data/dataset.py:399(<listcomp>)\n",
      "\n",
      "\n",
      "Sun Mar 10 10:16:36 2024    restats\n",
      "\n",
      "         565799 function calls (560447 primitive calls) in 2.097 seconds\n",
      "\n",
      "   Ordered by: internal time\n",
      "   List reduced from 332 to 10 due to restriction <10>\n",
      "\n",
      "   ncalls  tottime  percall  cumtime  percall filename:lineno(function)\n",
      "       45    1.182    0.026    1.205    0.027 /Users/marcel.vangerven/Code/github/decorrelation/decorrelation/decorrelation.py:84(update)\n",
      "      120    0.137    0.001    0.137    0.001 {built-in method torch._C._nn.linear}\n",
      "       60    0.049    0.001    0.049    0.001 {built-in method torch.normal}\n",
      "     3840    0.046    0.000    0.113    0.000 /Users/marcel.vangerven/Code/environments/pytorch/lib/python3.11/site-packages/torchvision/transforms/_functional_tensor.py:903(normalize)\n",
      "       15    0.042    0.003    0.052    0.003 /Users/marcel.vangerven/Code/github/decorrelation/decorrelation/decorrelation.py:120(loss)\n",
      "     3840    0.039    0.000    0.551    0.000 /Users/marcel.vangerven/Code/environments/pytorch/lib/python3.11/site-packages/torchvision/datasets/mnist.py:130(__getitem__)\n",
      "     3840    0.031    0.000    0.206    0.000 /Users/marcel.vangerven/Code/environments/pytorch/lib/python3.11/site-packages/torchvision/transforms/functional.py:126(to_tensor)\n",
      "     3840    0.027    0.000    0.027    0.000 {method 'div' of 'torch._C.TensorBase' objects}\n",
      "     7680    0.024    0.000    0.024    0.000 {built-in method torch.as_tensor}\n",
      "     7680    0.022    0.000    0.022    0.000 {method 'clone' of 'torch._C.TensorBase' objects}\n",
      "\n",
      "\n"
     ]
    },
    {
     "data": {
      "text/plain": [
       "<pstats.Stats at 0x13aa3b190>"
      ]
     },
     "execution_count": 3,
     "metadata": {},
     "output_type": "execute_result"
    }
   ],
   "source": [
    "args = argparse.Namespace(lr=1e-4, decor_lr=1e-1, bias_lr=0.0, kappa=1e-2, epochs=3, full=True)\n",
    "lossfun = torch.nn.CrossEntropyLoss().to(device)\n",
    "sampler = torch.distributions.Distribution = torch.distributions.Normal(0.0, 1e-3)\n",
    "\n",
    "# model = NPLinear(784, 10, sampler=sampler, device=device)\n",
    "# model, L1, D, T = np_train(args, model, lossfun, train_loader, device)\n",
    "\n",
    "model = nn.Sequential(Decorrelation(784, decor_lr=args.decor_lr, bias_lr=args.bias_lr, kappa=args.kappa, full=args.full), NPLinear(784, 10, sampler=sampler, device=device))\n",
    "\n",
    "cProfile.run('np_train(args, model, lossfun, train_loader, device)', 'restats')\n",
    "p = pstats.Stats('restats')\n",
    "p.sort_stats('cumulative').print_stats(10)\n",
    "p.sort_stats('time').print_stats(10)\n"
   ]
  },
  {
   "cell_type": "markdown",
   "metadata": {},
   "source": [
    "Pytroch profiling. See https://pytorch.org/tutorials/recipes/recipes/profiler_recipe.html for more examples"
   ]
  },
  {
   "cell_type": "code",
   "execution_count": 4,
   "metadata": {},
   "outputs": [
    {
     "name": "stderr",
     "output_type": "stream",
     "text": [
      "STAGE:2024-03-10 10:16:36 8347:7102419 ActivityProfilerController.cpp:314] Completed Stage: Warm Up\n"
     ]
    },
    {
     "name": "stdout",
     "output_type": "stream",
     "text": [
      "epoch 0  \ttime:0.000 s\tbp loss: 5.232002\tdecorrelation loss: 6.581224\n",
      "epoch 1  \ttime:0.602 s\tbp loss: 5.170646\tdecorrelation loss: 2.429324\n",
      "epoch 2  \ttime:0.600 s\tbp loss: 5.116081\tdecorrelation loss: 0.569070\n",
      "epoch 3  \ttime:0.609 s\tbp loss: 5.088414\tdecorrelation loss: 0.327403\n"
     ]
    },
    {
     "name": "stderr",
     "output_type": "stream",
     "text": [
      "STAGE:2024-03-10 10:16:38 8347:7102419 ActivityProfilerController.cpp:320] Completed Stage: Collection\n",
      "STAGE:2024-03-10 10:16:38 8347:7102419 ActivityProfilerController.cpp:324] Completed Stage: Post Processing\n"
     ]
    }
   ],
   "source": [
    "args = argparse.Namespace(lr=1e-4, decor_lr=1e-1, bias_lr=0.0, kappa=1e-2, epochs=3, full=True)\n",
    "lossfun = torch.nn.CrossEntropyLoss().to(device)\n",
    "sampler = torch.distributions.Distribution = torch.distributions.Normal(0.0, 1e-3)\n",
    "\n",
    "model = nn.Sequential(Decorrelation(784, decor_lr=args.decor_lr, bias_lr=args.bias_lr, kappa=args.kappa, full=args.full), NPLinear(784, 10, sampler=sampler, device=device))\n",
    "\n",
    "with profile(activities=[ProfilerActivity.CPU], record_shapes=True) as prof:\n",
    "    with record_function(\"model_training\"):\n",
    "        np_train(args, model, lossfun, train_loader, device)"
   ]
  },
  {
   "cell_type": "code",
   "execution_count": 5,
   "metadata": {},
   "outputs": [
    {
     "name": "stdout",
     "output_type": "stream",
     "text": [
      "-------------------------------------------------------  ------------  ------------  ------------  ------------  ------------  ------------  \n",
      "                                                   Name    Self CPU %      Self CPU   CPU total %     CPU total  CPU time avg    # of Calls  \n",
      "-------------------------------------------------------  ------------  ------------  ------------  ------------  ------------  ------------  \n",
      "                                         model_training         2.55%      52.495ms       100.00%        2.059s        2.059s             1  \n",
      "                                           aten::matmul         0.24%       4.855ms        61.50%        1.266s       5.628ms           225  \n",
      "                                               aten::mm        61.46%        1.266s        61.46%        1.266s       5.625ms           225  \n",
      "enumerate(DataLoader)#_SingleProcessDataLoaderIter._...        17.60%     362.434ms        27.06%     557.259ms       8.707ms            64  \n",
      "                                           aten::linear        -0.07%   -1422.000us         6.42%     132.231ms       1.102ms           120  \n",
      "                                               aten::to         0.83%      17.043ms         2.75%      56.595ms       1.956us         28937  \n",
      "                                           aten::normal         1.70%      34.938ms         2.37%      48.907ms     815.117us            60  \n",
      "                                         aten::_to_copy         1.76%      36.275ms         2.22%      45.673ms       3.520us         12975  \n",
      "                                              aten::div         1.37%      28.291ms         2.09%      43.072ms      10.480us          4110  \n",
      "                                              aten::mul         1.54%      31.622ms         1.72%      35.497ms      65.735us           540  \n",
      "-------------------------------------------------------  ------------  ------------  ------------  ------------  ------------  ------------  \n",
      "Self CPU time total: 2.059s\n",
      "\n"
     ]
    }
   ],
   "source": [
    "print(prof.key_averages().table(sort_by=\"cpu_time_total\", row_limit=10))"
   ]
  },
  {
   "cell_type": "code",
   "execution_count": 6,
   "metadata": {},
   "outputs": [
    {
     "name": "stdout",
     "output_type": "stream",
     "text": [
      "-------------------------------------------------------  ------------  ------------  ------------  ------------  ------------  ------------  -------------------------------------------  \n",
      "                                                   Name    Self CPU %      Self CPU   CPU total %     CPU total  CPU time avg    # of Calls                                 Input Shapes  \n",
      "-------------------------------------------------------  ------------  ------------  ------------  ------------  ------------  ------------  -------------------------------------------  \n",
      "                                         model_training         2.55%      52.495ms       100.00%        2.059s        2.059s             1                                           []  \n",
      "                                           aten::matmul         0.02%     343.000us        49.44%        1.018s      22.624ms            45                     [[784, 784], [784, 784]]  \n",
      "                                               aten::mm        49.42%        1.018s        49.42%        1.018s      22.617ms            45                     [[784, 784], [784, 784]]  \n",
      "enumerate(DataLoader)#_SingleProcessDataLoaderIter._...        17.60%     362.434ms        27.06%     557.259ms       8.707ms            64                                           []  \n",
      "                                           aten::linear        -0.08%   -1703.000us         6.13%     126.166ms       2.103ms            60                  [[64, 784], [784, 784], []]  \n",
      "                                           aten::matmul         0.11%       2.318ms         6.08%     125.303ms       2.088ms            60                      [[64, 784], [784, 784]]  \n",
      "                                               aten::mm         6.07%     125.050ms         6.07%     125.050ms       2.084ms            60                      [[64, 784], [784, 784]]  \n",
      "                                           aten::matmul         0.10%       2.066ms         5.83%     120.095ms       2.002ms            60                       [[784, 64], [64, 784]]  \n",
      "                                               aten::mm         5.83%     120.007ms         5.83%     120.007ms       2.000ms            60                       [[784, 64], [64, 784]]  \n",
      "                                           aten::normal         1.70%      34.938ms         2.37%      48.907ms     815.117us            60                   [[64, 784], [64, 784], []]  \n",
      "-------------------------------------------------------  ------------  ------------  ------------  ------------  ------------  ------------  -------------------------------------------  \n",
      "Self CPU time total: 2.059s\n",
      "\n"
     ]
    }
   ],
   "source": [
    "print(prof.key_averages(group_by_input_shape=True).table(sort_by=\"cpu_time_total\", row_limit=10))"
   ]
  },
  {
   "cell_type": "code",
   "execution_count": null,
   "metadata": {},
   "outputs": [],
   "source": []
  }
 ],
 "metadata": {
  "kernelspec": {
   "display_name": "Python 3",
   "language": "python",
   "name": "python3"
  },
  "language_info": {
   "codemirror_mode": {
    "name": "ipython",
    "version": 3
   },
   "file_extension": ".py",
   "mimetype": "text/x-python",
   "name": "python",
   "nbconvert_exporter": "python",
   "pygments_lexer": "ipython3",
   "version": "3.11.7"
  }
 },
 "nbformat": 4,
 "nbformat_minor": 2
}
