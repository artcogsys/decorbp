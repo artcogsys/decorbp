{
 "cells": [
  {
   "cell_type": "markdown",
   "metadata": {},
   "source": [
    "Profiling decorrelation and node perturbation"
   ]
  },
  {
   "cell_type": "code",
   "execution_count": 1,
   "metadata": {},
   "outputs": [],
   "source": [
    "import numpy as np\n",
    "import torch\n",
    "import torch.nn as nn\n",
    "from torchvision.datasets import MNIST\n",
    "from torchvision import transforms\n",
    "from torch.utils.data import DataLoader, Subset\n",
    "from node_perturbation.node_perturbation import NPLinear\n",
    "from node_perturbation.utils import np_train\n",
    "from decorrelation.decorrelation import Decorrelation\n",
    "import matplotlib.pyplot as plt\n",
    "import argparse\n",
    "\n",
    "import cProfile\n",
    "import pstats\n",
    "from torch.profiler import profile, record_function, ProfilerActivity\n",
    "\n",
    "device = torch.device(\"cuda:0\" if torch.cuda.is_available() else \"cpu\")\n",
    "\n",
    "seed = 42\n",
    "torch.manual_seed(seed)\n",
    "torch.cuda.manual_seed(seed)\n",
    "np.random.seed(seed)"
   ]
  },
  {
   "cell_type": "code",
   "execution_count": 2,
   "metadata": {},
   "outputs": [],
   "source": [
    "transform=transforms.Compose([\n",
    "        transforms.ToTensor(),\n",
    "        transforms.Grayscale(1),\n",
    "        transforms.Normalize((0.5), (0.5)),\n",
    "        torch.flatten # for input to linear layer\n",
    "        ])\n",
    "\n",
    "train_data = MNIST(root='~/Data', train=True, download=True, transform=transform)\n",
    "train_data = Subset(train_data, np.random.permutation(len(train_data.data))[:1000])\n",
    "train_loader = DataLoader(train_data, batch_size=64, shuffle=True, num_workers=0, drop_last=True)"
   ]
  },
  {
   "cell_type": "code",
   "execution_count": 3,
   "metadata": {},
   "outputs": [
    {
     "name": "stdout",
     "output_type": "stream",
     "text": [
      "epoch 0  \ttime:0.000 s\tbp loss: 5.125478\tdecorrelation loss: 6.575234\n",
      "epoch 1  \ttime:0.611 s\tbp loss: 5.028853\tdecorrelation loss: 2.408464\n",
      "epoch 2  \ttime:0.603 s\tbp loss: 4.923016\tdecorrelation loss: 0.571336\n",
      "epoch 3  \ttime:0.618 s\tbp loss: 4.878056\tdecorrelation loss: 0.326010\n",
      "Sun Mar 10 10:16:36 2024    restats\n",
      "\n",
      "         565799 function calls (560447 primitive calls) in 2.097 seconds\n",
      "\n",
      "   Ordered by: cumulative time\n",
      "   List reduced from 332 to 10 due to restriction <10>\n",
      "\n",
      "   ncalls  tottime  percall  cumtime  percall filename:lineno(function)\n",
      "        1    0.000    0.000    2.097    2.097 {built-in method builtins.exec}\n",
      "        1    0.000    0.000    2.097    2.097 <string>:1(<module>)\n",
      "        1    0.007    0.007    2.097    2.097 /Users/marcel.vangerven/Code/github/decorrelation/node_perturbation/utils.py:7(np_train)\n",
      "       45    0.001    0.000    1.205    0.027 /Users/marcel.vangerven/Code/github/decorrelation/decorrelation/decorrelation.py:14(decor_update)\n",
      "       45    1.182    0.026    1.205    0.027 /Users/marcel.vangerven/Code/github/decorrelation/decorrelation/decorrelation.py:84(update)\n",
      "       64    0.001    0.000    0.577    0.009 /Users/marcel.vangerven/Code/environments/pytorch/lib/python3.11/site-packages/torch/utils/data/dataloader.py:626(__next__)\n",
      "       64    0.004    0.000    0.571    0.009 /Users/marcel.vangerven/Code/environments/pytorch/lib/python3.11/site-packages/torch/utils/data/dataloader.py:673(_next_data)\n",
      "       60    0.000    0.000    0.564    0.009 /Users/marcel.vangerven/Code/environments/pytorch/lib/python3.11/site-packages/torch/utils/data/_utils/fetch.py:46(fetch)\n",
      "       60    0.000    0.000    0.555    0.009 /Users/marcel.vangerven/Code/environments/pytorch/lib/python3.11/site-packages/torch/utils/data/dataset.py:393(__getitems__)\n",
      "       60    0.004    0.000    0.555    0.009 /Users/marcel.vangerven/Code/environments/pytorch/lib/python3.11/site-packages/torch/utils/data/dataset.py:399(<listcomp>)\n",
      "\n",
      "\n",
      "Sun Mar 10 10:16:36 2024    restats\n",
      "\n",
      "         565799 function calls (560447 primitive calls) in 2.097 seconds\n",
      "\n",
      "   Ordered by: internal time\n",
      "   List reduced from 332 to 10 due to restriction <10>\n",
      "\n",
      "   ncalls  tottime  percall  cumtime  percall filename:lineno(function)\n",
      "       45    1.182    0.026    1.205    0.027 /Users/marcel.vangerven/Code/github/decorrelation/decorrelation/decorrelation.py:84(update)\n",
      "      120    0.137    0.001    0.137    0.001 {built-in method torch._C._nn.linear}\n",
      "       60    0.049    0.001    0.049    0.001 {built-in method torch.normal}\n",
      "     3840    0.046    0.000    0.113    0.000 /Users/marcel.vangerven/Code/environments/pytorch/lib/python3.11/site-packages/torchvision/transforms/_functional_tensor.py:903(normalize)\n",
      "       15    0.042    0.003    0.052    0.003 /Users/marcel.vangerven/Code/github/decorrelation/decorrelation/decorrelation.py:120(loss)\n",
      "     3840    0.039    0.000    0.551    0.000 /Users/marcel.vangerven/Code/environments/pytorch/lib/python3.11/site-packages/torchvision/datasets/mnist.py:130(__getitem__)\n",
      "     3840    0.031    0.000    0.206    0.000 /Users/marcel.vangerven/Code/environments/pytorch/lib/python3.11/site-packages/torchvision/transforms/functional.py:126(to_tensor)\n",
      "     3840    0.027    0.000    0.027    0.000 {method 'div' of 'torch._C.TensorBase' objects}\n",
      "     7680    0.024    0.000    0.024    0.000 {built-in method torch.as_tensor}\n",
      "     7680    0.022    0.000    0.022    0.000 {method 'clone' of 'torch._C.TensorBase' objects}\n",
      "\n",
      "\n"
     ]
    },
    {
     "data": {
      "text/plain": [
       "<pstats.Stats at 0x13aa3b190>"
      ]
     },
     "execution_count": 3,
     "metadata": {},
     "output_type": "execute_result"
    }
   ],
   "source": [
    "args = argparse.Namespace(lr=1e-4, decor_lr=1e-1, bias_lr=0.0, kappa=1e-2, epochs=3, full=True)\n",
    "lossfun = torch.nn.CrossEntropyLoss().to(device)\n",
    "sampler = torch.distributions.Distribution = torch.distributions.Normal(0.0, 1e-3)\n",
    "\n",
    "# model = NPLinear(784, 10, sampler=sampler, device=device)\n",
    "# model, L1, D, T = np_train(args, model, lossfun, train_loader, device)\n",
    "\n",
    "model = nn.Sequential(Decorrelation(784, decor_lr=args.decor_lr, bias_lr=args.bias_lr, kappa=args.kappa, full=args.full), NPLinear(784, 10, sampler=sampler, device=device))\n",
    "\n",
    "cProfile.run('np_train(args, model, lossfun, train_loader, device)', 'restats')\n",
    "p = pstats.Stats('restats')\n",
    "p.sort_stats('cumulative').print_stats(10)\n",
    "p.sort_stats('time').print_stats(10)\n"
   ]
  },
  {
   "cell_type": "markdown",
   "metadata": {},
   "source": [
    "Pytroch profiling. See https://pytorch.org/tutorials/recipes/recipes/profiler_recipe.html for more examples"
   ]
  },
  {
   "cell_type": "code",
   "execution_count": 4,
   "metadata": {},
   "outputs": [
    {
     "name": "stderr",
     "output_type": "stream",
     "text": [
      "STAGE:2024-03-10 10:16:36 8347:7102419 ActivityProfilerController.cpp:314] Completed Stage: Warm Up\n"
     ]
    },
    {
     "name": "stdout",
     "output_type": "stream",
     "text": [
      "epoch 0  \ttime:0.000 s\tbp loss: 5.232002\tdecorrelation loss: 6.581224\n",
      "epoch 1  \ttime:0.602 s\tbp loss: 5.170646\tdecorrelation loss: 2.429324\n",
      "epoch 2  \ttime:0.600 s\tbp loss: 5.116081\tdecorrelation loss: 0.569070\n",
      "epoch 3  \ttime:0.609 s\tbp loss: 5.088414\tdecorrelation loss: 0.327403\n"
     ]
    },
    {
     "name": "stderr",
     "output_type": "stream",
     "text": [
      "STAGE:2024-03-10 10:16:38 8347:7102419 ActivityProfilerController.cpp:320] Completed Stage: Collection\n",
      "STAGE:2024-03-10 10:16:38 8347:7102419 ActivityProfilerController.cpp:324] Completed Stage: Post Processing\n"
     ]
    }
   ],
   "source": [
    "args = argparse.Namespace(lr=1e-4, decor_lr=1e-1, bias_lr=0.0, kappa=1e-2, epochs=3, full=True)\n",
    "lossfun = torch.nn.CrossEntropyLoss().to(device)\n",
    "sampler = torch.distributions.Distribution = torch.distributions.Normal(0.0, 1e-3)\n",
    "\n",
    "model = nn.Sequential(Decorrelation(784, decor_lr=args.decor_lr, bias_lr=args.bias_lr, kappa=args.kappa, full=args.full), NPLinear(784, 10, sampler=sampler, device=device))\n",
    "\n",
    "with profile(activities=[ProfilerActivity.CPU], record_shapes=True) as prof:\n",
    "    with record_function(\"model_training\"):\n",
    "        np_train(args, model, lossfun, train_loader, device)"
   ]
  },
  {
   "cell_type": "code",
   "execution_count": 5,
   "metadata": {},
   "outputs": [
    {
     "name": "stdout",
     "output_type": "stream",
     "text": [
      "-------------------------------------------------------  ------------  ------------  ------------  ------------  ------------  ------------  \n",
      "                                                   Name    Self CPU %      Self CPU   CPU total %     CPU total  CPU time avg    # of Calls  \n",
      "-------------------------------------------------------  ------------  ------------  ------------  ------------  ------------  ------------  \n",
      "                                         model_training         2.55%      52.495ms       100.00%        2.059s        2.059s             1  \n",
      "                                           aten::matmul         0.24%       4.855ms        61.50%        1.266s       5.628ms           225  \n",
      "                                               aten::mm        61.46%        1.266s        61.46%        1.266s       5.625ms           225  \n",
      "enumerate(DataLoader)#_SingleProcessDataLoaderIter._...        17.60%     362.434ms        27.06%     557.259ms       8.707ms            64  \n",
      "                                           aten::linear        -0.07%   -1422.000us         6.42%     132.231ms       1.102ms           120  \n",
      "                                               aten::to         0.83%      17.043ms         2.75%      56.595ms       1.956us         28937  \n",
      "                                           aten::normal         1.70%      34.938ms         2.37%      48.907ms     815.117us            60  \n",
      "                                         aten::_to_copy         1.76%      36.275ms         2.22%      45.673ms       3.520us         12975  \n",
      "                                              aten::div         1.37%      28.291ms         2.09%      43.072ms      10.480us          4110  \n",
      "                                              aten::mul         1.54%      31.622ms         1.72%      35.497ms      65.735us           540  \n",
      "-------------------------------------------------------  ------------  ------------  ------------  ------------  ------------  ------------  \n",
      "Self CPU time total: 2.059s\n",
      "\n"
     ]
    }
   ],
   "source": [
    "print(prof.key_averages().table(sort_by=\"cpu_time_total\", row_limit=10))"
   ]
  },
  {
   "cell_type": "code",
   "execution_count": 6,
   "metadata": {},
   "outputs": [
    {
     "name": "stdout",
     "output_type": "stream",
     "text": [
      "-------------------------------------------------------  ------------  ------------  ------------  ------------  ------------  ------------  -------------------------------------------  \n",
      "                                                   Name    Self CPU %      Self CPU   CPU total %     CPU total  CPU time avg    # of Calls                                 Input Shapes  \n",
      "-------------------------------------------------------  ------------  ------------  ------------  ------------  ------------  ------------  -------------------------------------------  \n",
      "                                         model_training         2.55%      52.495ms       100.00%        2.059s        2.059s             1                                           []  \n",
      "                                           aten::matmul         0.02%     343.000us        49.44%        1.018s      22.624ms            45                     [[784, 784], [784, 784]]  \n",
      "                                               aten::mm        49.42%        1.018s        49.42%        1.018s      22.617ms            45                     [[784, 784], [784, 784]]  \n",
      "enumerate(DataLoader)#_SingleProcessDataLoaderIter._...        17.60%     362.434ms        27.06%     557.259ms       8.707ms            64                                           []  \n",
      "                                           aten::linear        -0.08%   -1703.000us         6.13%     126.166ms       2.103ms            60                  [[64, 784], [784, 784], []]  \n",
      "                                           aten::matmul         0.11%       2.318ms         6.08%     125.303ms       2.088ms            60                      [[64, 784], [784, 784]]  \n",
      "                                               aten::mm         6.07%     125.050ms         6.07%     125.050ms       2.084ms            60                      [[64, 784], [784, 784]]  \n",
      "                                           aten::matmul         0.10%       2.066ms         5.83%     120.095ms       2.002ms            60                       [[784, 64], [64, 784]]  \n",
      "                                               aten::mm         5.83%     120.007ms         5.83%     120.007ms       2.000ms            60                       [[784, 64], [64, 784]]  \n",
      "                                           aten::normal         1.70%      34.938ms         2.37%      48.907ms     815.117us            60                   [[64, 784], [64, 784], []]  \n",
      "-------------------------------------------------------  ------------  ------------  ------------  ------------  ------------  ------------  -------------------------------------------  \n",
      "Self CPU time total: 2.059s\n",
      "\n"
     ]
    }
   ],
   "source": [
    "print(prof.key_averages(group_by_input_shape=True).table(sort_by=\"cpu_time_total\", row_limit=10))"
   ]
  },
  {
   "cell_type": "code",
   "execution_count": null,
   "metadata": {},
   "outputs": [],
   "source": []
  }
 ],
 "metadata": {
  "kernelspec": {
   "display_name": "Python 3",
   "language": "python",
   "name": "python3"
  },
  "language_info": {
   "codemirror_mode": {
    "name": "ipython",
    "version": 3
   },
   "file_extension": ".py",
   "mimetype": "text/x-python",
   "name": "python",
   "nbconvert_exporter": "python",
   "pygments_lexer": "ipython3",
   "version": "3.11.7"
  }
 },
 "nbformat": 4,
 "nbformat_minor": 2
}
