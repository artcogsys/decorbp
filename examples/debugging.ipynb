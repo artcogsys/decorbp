{
 "cells": [
  {
   "cell_type": "markdown",
   "metadata": {},
   "source": [
    "Analyses properties of decorrelation and whitening methods for decorrelated networks"
   ]
  },
  {
   "cell_type": "code",
   "execution_count": 1,
   "metadata": {},
   "outputs": [],
   "source": [
    "import numpy as np\n",
    "import torch\n",
    "import torch.nn as nn\n",
    "from decorrelation.decorrelation import Decorrelation, DecorLinear, DecorConv2d, lower_triangular, decor_modules\n",
    "import matplotlib.pyplot as plt\n",
    "import matplotlib\n",
    "from torchvision.datasets import MNIST\n",
    "from torchvision import transforms\n",
    "from torch.utils.data import DataLoader, Subset\n",
    "from decorrelation.training import decor_train, bp_train\n",
    "import argparse\n",
    "from decorrelation.plotting import *\n",
    "\n",
    "# automatic reloading of modules when they change\n",
    "%load_ext autoreload\n",
    "%autoreload 2\n",
    "\n",
    "seed = 42\n",
    "torch.manual_seed(seed)\n",
    "torch.cuda.manual_seed(seed)\n",
    "np.random.seed(seed)\n",
    "\n",
    "device = torch.device(\"cuda:0\" if torch.cuda.is_available() else \"cpu\")"
   ]
  },
  {
   "cell_type": "code",
   "execution_count": 2,
   "metadata": {},
   "outputs": [],
   "source": [
    "def plot_results(init_model, model, dataloader, device):\n",
    "\n",
    "    for batch in dataloader:\n",
    "        init_model.forward(batch[0].to(device))\n",
    "        model.forward(batch[0].to(device))\n",
    "        init_modules = decor_modules(init_model)\n",
    "        modules = decor_modules(model)\n",
    "        for i, (imod, mod) in enumerate(zip(init_modules, modules)):\n",
    "        \n",
    "            state = imod.decor_state            \n",
    "            Ci = (state.T @ state) / len(state)\n",
    "            Ci = Ci.detach().numpy()\n",
    "\n",
    "            state = mod.decor_state            \n",
    "            C = (state.T @ state) / len(state)\n",
    "            C = C.detach().numpy()\n",
    "\n",
    "            plt.subplot(2, len(modules), i+1)\n",
    "            plt.title(f'layer {i+1}')\n",
    "            plt.xlabel('$x_i x_j$')\n",
    "            plt.hist([lower_triangular(Ci, offset=-1), lower_triangular(C, offset=-1)], bins=30, label=['correlated', 'decorrelated'])\n",
    "            plt.subplot(2, len(modules), i+1+len(modules))\n",
    "            plt.hist([np.diagonal(Ci), np.diagonal(C)], bins=30, label=['correlated', 'decorrelated'])\n",
    "            plt.xlabel('$x_i^2$')\n",
    "            print(f'layer {i+1} mean covariance before decorrelation: {np.mean(lower_triangular(Ci, offset=-1)):.2f}')\n",
    "            print(f'layer {i+1} mean covariance after decorrelation: {np.mean(lower_triangular(C, offset=-1)):.2f}')\n",
    "            print(f'layer {i+1} mean variance before decorrelation: {np.mean(np.diagonal(Ci)):.2f}')\n",
    "            print(f'layer {i+1} mean variance after decorrelation: {np.mean(np.diagonal(C)):.2f}')\n",
    "        break\n",
    "    plt.legend();"
   ]
  },
  {
   "cell_type": "code",
   "execution_count": 3,
   "metadata": {},
   "outputs": [],
   "source": [
    "transform=transforms.Compose([\n",
    "        transforms.ToTensor(),\n",
    "        transforms.Grayscale(1),\n",
    "        transforms.Normalize((0.5), (0.5)),\n",
    "        # torch.flatten # not necessary but useful for debugging\n",
    "        ])\n",
    "\n",
    "train_data = MNIST(root='~/Data', train=True, download=True, transform=transform)\n",
    "train_data = Subset(train_data, np.random.permutation(len(train_data.data))[:1000])\n",
    "train_loader = DataLoader(train_data, batch_size=64, shuffle=True, num_workers=0, drop_last=True)"
   ]
  },
  {
   "cell_type": "code",
   "execution_count": 4,
   "metadata": {},
   "outputs": [
    {
     "name": "stdout",
     "output_type": "stream",
     "text": [
      "epoch 0  \ttime:0.000 s\tbp loss: 2.528634\tdecorrelation loss: 6.862281\n",
      "epoch 1  \ttime:0.359 s\tbp loss: 2.097114\tdecorrelation loss: 10.948387\n",
      "epoch 2  \ttime:0.487 s\tbp loss: 1.352512\tdecorrelation loss: 28.465385\n",
      "epoch 3  \ttime:0.354 s\tbp loss: 0.915049\tdecorrelation loss: 24.342543\n",
      "epoch 4  \ttime:0.427 s\tbp loss: 0.714140\tdecorrelation loss: 17.583656\n",
      "epoch 5  \ttime:0.362 s\tbp loss: 0.608197\tdecorrelation loss: 13.477736\n",
      "epoch 6  \ttime:0.373 s\tbp loss: 0.544145\tdecorrelation loss: 10.955321\n",
      "epoch 7  \ttime:0.375 s\tbp loss: 0.499091\tdecorrelation loss: 9.179371\n",
      "epoch 8  \ttime:0.375 s\tbp loss: 0.442458\tdecorrelation loss: 8.218740\n",
      "epoch 9  \ttime:0.363 s\tbp loss: 0.409745\tdecorrelation loss: 9.131345\n",
      "epoch 10 \ttime:0.350 s\tbp loss: 0.386336\tdecorrelation loss: 7.464979\n",
      "epoch 11 \ttime:0.601 s\tbp loss: 0.354060\tdecorrelation loss: 6.577610\n",
      "epoch 12 \ttime:0.375 s\tbp loss: 0.327519\tdecorrelation loss: 5.973293\n",
      "epoch 13 \ttime:0.361 s\tbp loss: 0.313750\tdecorrelation loss: 5.505774\n",
      "epoch 14 \ttime:0.375 s\tbp loss: 0.295725\tdecorrelation loss: 5.554081\n",
      "epoch 15 \ttime:0.422 s\tbp loss: 0.287752\tdecorrelation loss: 5.180661\n",
      "epoch 16 \ttime:0.414 s\tbp loss: 0.277777\tdecorrelation loss: 4.794753\n",
      "epoch 17 \ttime:0.367 s\tbp loss: 0.257745\tdecorrelation loss: 4.782154\n",
      "epoch 18 \ttime:0.362 s\tbp loss: 0.236762\tdecorrelation loss: 4.862470\n",
      "epoch 19 \ttime:0.389 s\tbp loss: 0.219001\tdecorrelation loss: 5.367845\n",
      "epoch 20 \ttime:0.413 s\tbp loss: 0.215501\tdecorrelation loss: 4.730673\n",
      "epoch 21 \ttime:0.369 s\tbp loss: 0.198392\tdecorrelation loss: 4.873044\n",
      "epoch 22 \ttime:0.370 s\tbp loss: 0.183869\tdecorrelation loss: 4.952336\n",
      "epoch 23 \ttime:0.373 s\tbp loss: 0.174491\tdecorrelation loss: 4.358551\n",
      "epoch 24 \ttime:0.409 s\tbp loss: 0.164222\tdecorrelation loss: 5.310964\n",
      "epoch 25 \ttime:0.419 s\tbp loss: 0.155208\tdecorrelation loss: 4.324688\n",
      "epoch 26 \ttime:0.367 s\tbp loss: 0.147280\tdecorrelation loss: 3.969387\n",
      "epoch 27 \ttime:0.380 s\tbp loss: 0.138728\tdecorrelation loss: 3.545731\n",
      "epoch 28 \ttime:0.382 s\tbp loss: 0.129636\tdecorrelation loss: 3.449877\n",
      "epoch 29 \ttime:0.418 s\tbp loss: 0.121230\tdecorrelation loss: 3.313761\n",
      "epoch 30 \ttime:0.371 s\tbp loss: 0.121294\tdecorrelation loss: 3.361178\n"
     ]
    }
   ],
   "source": [
    "args = argparse.Namespace(lr=1e-3, eta=1e-2, decor_lr=1e0, whiten=True, epochs=30)\n",
    "\n",
    "class Model(nn.Sequential):\n",
    "    def __init__(self, in_features, eta, whiten):\n",
    "        super().__init__(DecorLinear(in_features, 100, decor_bias=False, kappa=eta, whiten=whiten),\n",
    "                        nn.LeakyReLU(),\n",
    "                        DecorLinear(100, 10, decor_bias=False, kappa=eta, whiten=whiten)\n",
    "                        )\n",
    "\n",
    "    def forward(self, x):\n",
    "        return super().forward(x.view(len(x), -1))\n",
    "\n",
    "# class Model(nn.Sequential):\n",
    "#     def __init__(self, in_features, eta, whiten):\n",
    "#         super().__init__(Decorrelation(in_features, bias=False, eta=eta, whiten=whiten),\n",
    "#                         nn.BatchNorm1d(in_features),\n",
    "#                         nn.Linear(in_features, 100),\n",
    "#                         nn.LeakyReLU(),\n",
    "#                         Decorrelation(100, bias=False, eta=eta, whiten=whiten),\n",
    "#                         nn.BatchNorm1d(100),\n",
    "#                         nn.Linear(100, 10)\n",
    "#                         )\n",
    "\n",
    "    def forward(self, x):\n",
    "        return super().forward(x.view(len(x), -1))\n",
    "\n",
    "\n",
    "model = Model(784, eta=args.eta, whiten=args.whiten).to(device)\n",
    "\n",
    "lossfun = torch.nn.CrossEntropyLoss().to(device)\n",
    "\n",
    "res = decor_train(args, model, lossfun, train_loader, device) # OR BP_TRAIN"
   ]
  },
  {
   "cell_type": "code",
   "execution_count": 5,
   "metadata": {},
   "outputs": [
    {
     "name": "stdout",
     "output_type": "stream",
     "text": [
      "layer 1:\n",
      "\n",
      "mean covariance before decorrelation: 0.57\n",
      "mean variance before decorrelation: 0.93\n",
      "\n",
      "mean covariance after decorrelation: 0.21\n",
      "mean variance after decorrelation: 0.52\n",
      "\n",
      "layer 2:\n",
      "\n",
      "mean covariance before decorrelation: 0.03\n",
      "mean variance before decorrelation: 0.12\n",
      "\n",
      "mean covariance after decorrelation: 0.07\n",
      "mean variance after decorrelation: 0.92\n",
      "\n"
     ]
    },
    {
     "data": {
      "image/png": "[encoded data removed]",
      "text/plain": [
       "<Figure size 1400x900 with 4 Axes>"
      ]
     },
     "metadata": {},
     "output_type": "display_data"
    }
   ],
   "source": [
    "init_model = Model(784, eta=args.eta, whiten=args.whiten).to(device) # deepcopy does not work\n",
    "plot_correlations(init_model, model, train_loader, device)"
   ]
  },
  {
   "cell_type": "code",
   "execution_count": 6,
   "metadata": {},
   "outputs": [
    {
     "data": {
      "text/plain": [
       "3"
      ]
     },
     "execution_count": 6,
     "metadata": {},
     "output_type": "execute_result"
    }
   ],
   "source": [
    "len(model)"
   ]
  },
  {
   "cell_type": "code",
   "execution_count": null,
   "metadata": {},
   "outputs": [],
   "source": []
  }
 ],
 "metadata": {
  "kernelspec": {
   "display_name": "Python 3",
   "language": "python",
   "name": "python3"
  },
  "language_info": {
   "codemirror_mode": {
    "name": "ipython",
    "version": 3
   },
   "file_extension": ".py",
   "mimetype": "text/x-python",
   "name": "python",
   "nbconvert_exporter": "python",
   "pygments_lexer": "ipython3",
   "version": "3.11.7"
  }
 },
 "nbformat": 4,
 "nbformat_minor": 2
}
