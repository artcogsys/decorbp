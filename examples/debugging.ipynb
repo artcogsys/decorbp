{
 "cells": [
  {
   "cell_type": "markdown",
   "metadata": {},
   "source": [
    "Analyses properties of decorrelation and whitening methods for decorrelated networks"
   ]
  },
  {
   "cell_type": "code",
   "execution_count": 1,
   "metadata": {},
   "outputs": [],
   "source": [
    "import numpy as np\n",
    "import torch\n",
    "import torch.nn as nn\n",
    "from decorrelation.decorrelation import Decorrelation, DecorLinear, DecorConv2d, lower_triangular, decor_modules\n",
    "import matplotlib.pyplot as plt\n",
    "import matplotlib\n",
    "from torchvision.datasets import MNIST\n",
    "from torchvision import transforms\n",
    "from torch.utils.data import DataLoader, Subset\n",
    "from decorrelation.train import decor_train\n",
    "import argparse\n",
    "\n",
    "# automatic reloading of modules when they change\n",
    "%load_ext autoreload\n",
    "%autoreload 2\n",
    "\n",
    "seed = 42\n",
    "torch.manual_seed(seed)\n",
    "torch.cuda.manual_seed(seed)\n",
    "np.random.seed(seed)\n",
    "\n",
    "device = torch.device(\"cuda:0\" if torch.cuda.is_available() else \"cpu\")"
   ]
  },
  {
   "cell_type": "code",
   "execution_count": 2,
   "metadata": {},
   "outputs": [],
   "source": [
    "def plot_results(init_model, model, dataloader):\n",
    "\n",
    "    for batch in dataloader:\n",
    "        init_model.forward(batch[0].to(device))\n",
    "        model.forward(batch[0].to(device))\n",
    "        init_modules = decor_modules(init_model)\n",
    "        modules = decor_modules(model)\n",
    "        for i, (imod, mod) in enumerate(zip(init_modules, modules)):\n",
    "        \n",
    "            state = imod.decor_state            \n",
    "            Ci = (state.T @ state) / len(state)\n",
    "            Ci = Ci.detach().numpy()\n",
    "\n",
    "            state = mod.decor_state            \n",
    "            C = (state.T @ state) / len(state)\n",
    "            C = C.detach().numpy()\n",
    "\n",
    "            plt.subplot(2, len(modules), i+1)\n",
    "            plt.title(f'layer {i+1}')\n",
    "            plt.xlabel('$x_i x_j$')\n",
    "            plt.hist([lower_triangular(Ci, offset=-1), lower_triangular(C, offset=-1)], bins=30, label=['correlated', 'decorrelated'])\n",
    "            plt.subplot(2, len(modules), i+1+len(modules))\n",
    "            plt.hist([np.diagonal(Ci), np.diagonal(C)], bins=30, label=['correlated', 'decorrelated'])\n",
    "            plt.xlabel('$x_i^2$')\n",
    "            print(f'layer {i+1} mean covariance before decorrelation: {np.mean(lower_triangular(Ci, offset=-1)):.2f}')\n",
    "            print(f'layer {i+1} mean covariance after decorrelation: {np.mean(lower_triangular(C, offset=-1)):.2f}')\n",
    "            print(f'layer {i+1} mean variance before decorrelation: {np.mean(np.diagonal(Ci)):.2f}')\n",
    "            print(f'layer {i+1} mean variance after decorrelation: {np.mean(np.diagonal(C)):.2f}')\n",
    "        break\n",
    "    plt.legend();"
   ]
  },
  {
   "cell_type": "code",
   "execution_count": 13,
   "metadata": {},
   "outputs": [],
   "source": [
    "transform=transforms.Compose([\n",
    "        transforms.ToTensor(),\n",
    "        transforms.Grayscale(1),\n",
    "        transforms.Normalize((0.5), (0.25)),\n",
    "        # torch.flatten # not necessary but useful for debugging\n",
    "        ])\n",
    "\n",
    "train_data = MNIST(root='~/Data', train=True, download=True, transform=transform)\n",
    "train_data = Subset(train_data, np.random.permutation(len(train_data.data))[:1000])\n",
    "train_loader = DataLoader(train_data, batch_size=64, shuffle=True, num_workers=0, drop_last=True)"
   ]
  },
  {
   "cell_type": "code",
   "execution_count": 11,
   "metadata": {},
   "outputs": [
    {
     "name": "stdout",
     "output_type": "stream",
     "text": [
      "epoch 0  \ttime:0.000 s\tbp loss: 2.585367\tdecorrelation loss: 109.834946\n",
      "epoch 1  \ttime:0.525 s\tbp loss: 2.450903\tdecorrelation loss: 15.885253\n",
      "epoch 2  \ttime:0.466 s\tbp loss: 2.241629\tdecorrelation loss: 0.877338\n",
      "epoch 3  \ttime:0.502 s\tbp loss: 2.029726\tdecorrelation loss: 0.817087\n",
      "epoch 4  \ttime:0.518 s\tbp loss: 1.854118\tdecorrelation loss: 1.421555\n",
      "epoch 5  \ttime:0.519 s\tbp loss: 1.712593\tdecorrelation loss: 7.451248\n",
      "epoch 6  \ttime:0.470 s\tbp loss: 1.608016\tdecorrelation loss: 23.947058\n",
      "epoch 7  \ttime:0.582 s\tbp loss: 1.463510\tdecorrelation loss: 42.235283\n",
      "epoch 8  \ttime:0.591 s\tbp loss: 1.360451\tdecorrelation loss: 101.862724\n",
      "epoch 9  \ttime:0.435 s\tbp loss: 1.281573\tdecorrelation loss: 154.583191\n",
      "epoch 10 \ttime:0.481 s\tbp loss: 1.209458\tdecorrelation loss: 310.420380\n",
      "epoch 11 \ttime:0.559 s\tbp loss: 1.111046\tdecorrelation loss: 240.515167\n",
      "epoch 12 \ttime:0.456 s\tbp loss: 1.049586\tdecorrelation loss: 389.561157\n",
      "epoch 13 \ttime:0.462 s\tbp loss: 1.027904\tdecorrelation loss: 461.050598\n",
      "epoch 14 \ttime:0.609 s\tbp loss: 0.952878\tdecorrelation loss: 595.946106\n",
      "epoch 15 \ttime:0.540 s\tbp loss: 0.936014\tdecorrelation loss: 711.676514\n",
      "epoch 16 \ttime:0.538 s\tbp loss: 0.892774\tdecorrelation loss: 724.486572\n",
      "epoch 17 \ttime:0.568 s\tbp loss: 0.871470\tdecorrelation loss: 898.306396\n",
      "epoch 18 \ttime:0.593 s\tbp loss: 0.854092\tdecorrelation loss: 1202.628662\n",
      "epoch 19 \ttime:0.484 s\tbp loss: 0.832259\tdecorrelation loss: 1452.059570\n",
      "epoch 20 \ttime:0.535 s\tbp loss: 0.795747\tdecorrelation loss: 1377.727173\n",
      "epoch 21 \ttime:0.472 s\tbp loss: 0.779293\tdecorrelation loss: 1593.652466\n",
      "epoch 22 \ttime:0.433 s\tbp loss: 0.765258\tdecorrelation loss: 1874.738037\n",
      "epoch 23 \ttime:0.522 s\tbp loss: 0.767200\tdecorrelation loss: 1904.933960\n",
      "epoch 24 \ttime:0.557 s\tbp loss: 0.748409\tdecorrelation loss: 2896.891113\n",
      "epoch 25 \ttime:0.424 s\tbp loss: 0.744662\tdecorrelation loss: 3226.121338\n",
      "epoch 26 \ttime:0.422 s\tbp loss: 0.717933\tdecorrelation loss: 3388.599365\n",
      "epoch 27 \ttime:0.454 s\tbp loss: 0.730328\tdecorrelation loss: 3736.095947\n",
      "epoch 28 \ttime:0.542 s\tbp loss: 0.702246\tdecorrelation loss: 3525.994141\n",
      "epoch 29 \ttime:0.477 s\tbp loss: 0.689994\tdecorrelation loss: 4854.723145\n",
      "epoch 30 \ttime:0.412 s\tbp loss: 0.704156\tdecorrelation loss: 5465.382324\n"
     ]
    }
   ],
   "source": [
    "args = argparse.Namespace(lr=1e-4, eta=0.3, decor_lr=1e-3, whiten=True, epochs=30) # NOTE: Fails for whiten=True\n",
    "\n",
    "class Model(nn.Sequential):\n",
    "    def __init__(self, in_features, eta, whiten):\n",
    "        super().__init__(DecorLinear(in_features, 100, decor_bias=False, eta=eta, whiten=whiten),\n",
    "                        nn.LeakyReLU(),\n",
    "                        DecorLinear(100, 10, decor_bias=False, eta=eta, whiten=whiten)\n",
    "                        )\n",
    "\n",
    "    def forward(self, x):\n",
    "        return super().forward(x.view(len(x), -1))\n",
    "\n",
    "model = Model(784, eta=args.eta, whiten=args.whiten).to(device)\n",
    "\n",
    "lossfun = torch.nn.CrossEntropyLoss().to(device)\n",
    "\n",
    "res = decor_train(args, model, lossfun, train_loader, device)"
   ]
  },
  {
   "cell_type": "code",
   "execution_count": 12,
   "metadata": {},
   "outputs": [
    {
     "name": "stdout",
     "output_type": "stream",
     "text": [
      "layer 1 mean covariance before decorrelation: 2.20\n",
      "layer 1 mean covariance after decorrelation: -0.01\n",
      "layer 1 mean variance before decorrelation: 3.69\n",
      "layer 1 mean variance after decorrelation: 31.71\n",
      "layer 2 mean covariance before decorrelation: 0.13\n",
      "layer 2 mean covariance after decorrelation: 1.04\n",
      "layer 2 mean variance before decorrelation: 0.47\n",
      "layer 2 mean variance after decorrelation: 15.74\n"
     ]
    },
    {
     "data": {
      "image/png": "[encoded data removed]",
      "text/plain": [
       "<Figure size 640x480 with 4 Axes>"
      ]
     },
     "metadata": {},
     "output_type": "display_data"
    }
   ],
   "source": [
    "init_model = Model(784, eta=args.eta, whiten=args.whiten).to(device) # deepcopy does not work\n",
    "plot_results(init_model, model, train_loader)"
   ]
  },
  {
   "cell_type": "code",
   "execution_count": null,
   "metadata": {},
   "outputs": [],
   "source": []
  }
 ],
 "metadata": {
  "kernelspec": {
   "display_name": "Python 3",
   "language": "python",
   "name": "python3"
  },
  "language_info": {
   "codemirror_mode": {
    "name": "ipython",
    "version": 3
   },
   "file_extension": ".py",
   "mimetype": "text/x-python",
   "name": "python",
   "nbconvert_exporter": "python",
   "pygments_lexer": "ipython3",
   "version": "3.11.7"
  }
 },
 "nbformat": 4,
 "nbformat_minor": 2
}
