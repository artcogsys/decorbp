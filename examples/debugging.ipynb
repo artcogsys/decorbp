{
 "cells": [
  {
   "cell_type": "markdown",
   "metadata": {},
   "source": [
    "Analyses properties of decorrelation and whitening methods for decorrelated networks"
   ]
  },
  {
   "cell_type": "code",
   "execution_count": 1,
   "metadata": {},
   "outputs": [],
   "source": [
    "import numpy as np\n",
    "import torch\n",
    "import torch.nn as nn\n",
    "from decorrelation.decorrelation import Decorrelation, DecorLinear, DecorConv2d\n",
    "import matplotlib.pyplot as plt\n",
    "import matplotlib\n",
    "from torchvision.datasets import MNIST\n",
    "from torchvision import transforms\n",
    "from torch.utils.data import DataLoader, Subset\n",
    "from decorrelation.train import decor_train\n",
    "import argparse\n",
    "\n",
    "# automatic reloading of modules when they change\n",
    "%load_ext autoreload\n",
    "%autoreload 2\n",
    "\n",
    "seed = 42\n",
    "torch.manual_seed(seed)\n",
    "torch.cuda.manual_seed(seed)\n",
    "np.random.seed(seed)\n",
    "\n",
    "device = torch.device(\"cuda:0\" if torch.cuda.is_available() else \"cpu\")"
   ]
  },
  {
   "cell_type": "code",
   "execution_count": 2,
   "metadata": {},
   "outputs": [],
   "source": [
    "def plot_results(model, data):\n",
    "\n",
    "    plt.figure(figsize=(14,9))\n",
    "\n",
    "    plt.hist([lower_triangular(A1, offset=0), lower_triangular(A2, offset=0)], bins=30, label=['correlated', 'decorrelated'])\n",
    "    plt.legend()\n",
    "    plt.xlabel('$x_i x_j$')\n",
    "    plt.legend();\n",
    "\n",
    "    plt.subplot(2,3,4)\n",
    "    min = np.max([np.min(np.abs(model.weight.numpy().flatten())), 1e-10])\n",
    "    max = np.max(np.abs(model.weight.numpy().flatten()))\n",
    "    plt.imshow(np.abs(model.weight), cmap=plt.get_cmap('hot'), interpolation='nearest', norm=matplotlib.colors.LogNorm(vmin=min, vmax=max))\n",
    "    plt.title('|decorrelation weights|')\n",
    "    plt.colorbar(fraction=0.046, pad=0.04)\n",
    "    plt.subplot(2,3,5)\n",
    "    min = np.min(np.stack([A1.numpy().flatten(), A2.numpy().flatten()]))\n",
    "    max = np.max(np.stack([A1.numpy().flatten(), A2.numpy().flatten()]))\n",
    "    plt.imshow(A1, cmap=plt.get_cmap('hot'), interpolation='nearest') #, norm=matplotlib.colors.LogNorm(vmin=min, vmax=max))\n",
    "    plt.title('$x_i x_j$')\n",
    "    plt.colorbar(fraction=0.046, pad=0.04)\n",
    "\n",
    "    plt.subplot(2,3,6)\n",
    "    plt.imshow(A2, cmap=plt.get_cmap('hot'), interpolation='nearest') #, norm=matplotlib.colors.LogNorm(vmin=min, vmax=max))\n",
    "    plt.title('$x_i x_j$ decorrelated')\n",
    "    plt.colorbar(fraction=0.046, pad=0.04);"
   ]
  },
  {
   "cell_type": "code",
   "execution_count": 3,
   "metadata": {},
   "outputs": [],
   "source": [
    "transform=transforms.Compose([\n",
    "        transforms.ToTensor(),\n",
    "        transforms.Grayscale(1),\n",
    "        transforms.Normalize((0.5), (0.25)),\n",
    "        # torch.flatten # not necessary but useful for debugging\n",
    "        ])\n",
    "\n",
    "train_data = MNIST(root='~/Data', train=True, download=True, transform=transform)\n",
    "train_data = Subset(train_data, np.random.permutation(len(train_data.data))[:1000])\n",
    "train_loader = DataLoader(train_data, batch_size=64, shuffle=True, num_workers=0, drop_last=True)"
   ]
  },
  {
   "cell_type": "code",
   "execution_count": 8,
   "metadata": {},
   "outputs": [
    {
     "name": "stdout",
     "output_type": "stream",
     "text": [
      "epoch 0  \ttime:0.000 s\tbp loss: 2.632900\tdecorrelation loss: 111.242065\n",
      "epoch 1  \ttime:0.331 s\tbp loss: 2.447502\tdecorrelation loss: 109.873917\n",
      "epoch 2  \ttime:0.383 s\tbp loss: 2.158636\tdecorrelation loss: 111.574059\n",
      "epoch 3  \ttime:0.346 s\tbp loss: 1.918815\tdecorrelation loss: 116.422638\n",
      "epoch 4  \ttime:0.311 s\tbp loss: 1.718795\tdecorrelation loss: 124.699272\n",
      "epoch 5  \ttime:0.377 s\tbp loss: 1.537218\tdecorrelation loss: 135.436310\n",
      "epoch 6  \ttime:0.330 s\tbp loss: 1.369530\tdecorrelation loss: 151.938904\n",
      "epoch 7  \ttime:0.324 s\tbp loss: 1.226115\tdecorrelation loss: 174.656601\n",
      "epoch 8  \ttime:0.391 s\tbp loss: 1.112562\tdecorrelation loss: 197.272705\n",
      "epoch 9  \ttime:0.354 s\tbp loss: 1.013306\tdecorrelation loss: 223.131668\n",
      "epoch 10 \ttime:0.328 s\tbp loss: 0.925326\tdecorrelation loss: 248.646149\n"
     ]
    }
   ],
   "source": [
    "args = argparse.Namespace(lr=1e-4, eta=0.3, decor_lr=1e-3, variance=1.0, epochs=10) # FAILS FOR E.G. variance=1.0 at this learning rate\n",
    "\n",
    "class Model(nn.Sequential):\n",
    "    def __init__(self, in_features, eta, variance):\n",
    "        super().__init__(DecorLinear(in_features, 100, decor_bias=True, eta=eta, variance=variance),\n",
    "                        nn.LeakyReLU(),\n",
    "                        DecorLinear(100, 10, decor_bias=True, eta=eta, variance=variance)\n",
    "                        )\n",
    "\n",
    "    def forward(self, x):\n",
    "        return super().forward(x.view(len(x), -1))\n",
    "    \n",
    "model = Model(784, eta=args.eta, variance=args.variance).to(device)\n",
    "\n",
    "lossfun = torch.nn.CrossEntropyLoss().to(device)\n",
    "\n",
    "res = decor_train(args, model, lossfun, train_loader, device)"
   ]
  },
  {
   "cell_type": "code",
   "execution_count": null,
   "metadata": {},
   "outputs": [],
   "source": []
  }
 ],
 "metadata": {
  "kernelspec": {
   "display_name": "Python 3",
   "language": "python",
   "name": "python3"
  },
  "language_info": {
   "codemirror_mode": {
    "name": "ipython",
    "version": 3
   },
   "file_extension": ".py",
   "mimetype": "text/x-python",
   "name": "python",
   "nbconvert_exporter": "python",
   "pygments_lexer": "ipython3",
   "version": "3.11.7"
  }
 },
 "nbformat": 4,
 "nbformat_minor": 2
}
