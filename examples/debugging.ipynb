{
 "cells": [
  {
   "cell_type": "markdown",
   "metadata": {},
   "source": [
    "Analyses properties of decorrelation and whitening methods for decorrelated networks"
   ]
  },
  {
   "cell_type": "code",
   "execution_count": 1,
   "metadata": {},
   "outputs": [],
   "source": [
    "import numpy as np\n",
    "import torch\n",
    "import torch.nn as nn\n",
    "from decorrelation.decorrelation import Decorrelation, DecorLinear, DecorConv2d, lower_triangular, decor_modules\n",
    "import matplotlib.pyplot as plt\n",
    "import matplotlib\n",
    "from torchvision.datasets import MNIST\n",
    "from torchvision import transforms\n",
    "from torch.utils.data import DataLoader, Subset\n",
    "from decorrelation.train import decor_train\n",
    "import argparse\n",
    "\n",
    "# automatic reloading of modules when they change\n",
    "%load_ext autoreload\n",
    "%autoreload 2\n",
    "\n",
    "seed = 42\n",
    "torch.manual_seed(seed)\n",
    "torch.cuda.manual_seed(seed)\n",
    "np.random.seed(seed)\n",
    "\n",
    "device = torch.device(\"cuda:0\" if torch.cuda.is_available() else \"cpu\")"
   ]
  },
  {
   "cell_type": "code",
   "execution_count": 2,
   "metadata": {},
   "outputs": [],
   "source": [
    "def plot_results(init_model, model, dataloader):\n",
    "\n",
    "    for batch in dataloader:\n",
    "        init_model.forward(batch[0].to(device))\n",
    "        model.forward(batch[0].to(device))\n",
    "        init_modules = decor_modules(init_model)\n",
    "        modules = decor_modules(model)\n",
    "        for i, (imod, mod) in enumerate(zip(init_modules, modules)):\n",
    "        \n",
    "            state = imod.decor_state            \n",
    "            Ci = (state.T @ state) / len(state)\n",
    "            Ci = Ci.detach().numpy()\n",
    "\n",
    "            state = mod.decor_state            \n",
    "            C = (state.T @ state) / len(state)\n",
    "            C = C.detach().numpy()\n",
    "\n",
    "            plt.subplot(2, len(modules), i+1)\n",
    "            plt.title(f'layer {i+1}')\n",
    "            plt.xlabel('$x_i x_j$')\n",
    "            plt.hist([lower_triangular(Ci, offset=-1), lower_triangular(C, offset=-1)], bins=30, label=['correlated', 'decorrelated'])\n",
    "            plt.subplot(2, len(modules), i+1+len(modules))\n",
    "            plt.hist([np.diagonal(Ci), np.diagonal(C)], bins=30, label=['correlated', 'decorrelated'])\n",
    "            plt.xlabel('$x_i^2$')\n",
    "            print(f'layer {i+1} mean covariance before decorrelation: {np.mean(lower_triangular(Ci, offset=-1)):.2f}')\n",
    "            print(f'layer {i+1} mean covariance after decorrelation: {np.mean(lower_triangular(C, offset=-1)):.2f}')\n",
    "            print(f'layer {i+1} mean variance before decorrelation: {np.mean(np.diagonal(Ci)):.2f}')\n",
    "            print(f'layer {i+1} mean variance after decorrelation: {np.mean(np.diagonal(C)):.2f}')\n",
    "        break\n",
    "    plt.legend();"
   ]
  },
  {
   "cell_type": "code",
   "execution_count": 3,
   "metadata": {},
   "outputs": [],
   "source": [
    "transform=transforms.Compose([\n",
    "        transforms.ToTensor(),\n",
    "        transforms.Grayscale(1),\n",
    "        transforms.Normalize((0.5), (0.25)),\n",
    "        # torch.flatten # not necessary but useful for debugging\n",
    "        ])\n",
    "\n",
    "train_data = MNIST(root='~/Data', train=True, download=True, transform=transform)\n",
    "train_data = Subset(train_data, np.random.permutation(len(train_data.data))[:1000])\n",
    "train_loader = DataLoader(train_data, batch_size=64, shuffle=True, num_workers=0, drop_last=True)"
   ]
  },
  {
   "cell_type": "code",
   "execution_count": 13,
   "metadata": {},
   "outputs": [
    {
     "name": "stdout",
     "output_type": "stream",
     "text": [
      "epoch 0  \ttime:0.000 s\tbp loss: 2.545241\tdecorrelation loss: 108.187660\n",
      "epoch 1  \ttime:0.374 s\tbp loss: 2.490352\tdecorrelation loss: 9.763197\n",
      "epoch 2  \ttime:0.362 s\tbp loss: 2.465526\tdecorrelation loss: 1.141219\n",
      "epoch 3  \ttime:0.353 s\tbp loss: 2.478095\tdecorrelation loss: 0.920916\n",
      "epoch 4  \ttime:0.346 s\tbp loss: 2.490503\tdecorrelation loss: 1.555818\n",
      "epoch 5  \ttime:0.390 s\tbp loss: 2.509818\tdecorrelation loss: 3.998651\n",
      "epoch 6  \ttime:0.396 s\tbp loss: 2.523208\tdecorrelation loss: 15.151894\n",
      "epoch 7  \ttime:0.364 s\tbp loss: 2.520735\tdecorrelation loss: 27.168411\n",
      "epoch 8  \ttime:0.355 s\tbp loss: 2.549337\tdecorrelation loss: 70.656868\n",
      "epoch 9  \ttime:0.345 s\tbp loss: 2.587918\tdecorrelation loss: 441.702332\n",
      "epoch 10 \ttime:0.355 s\tbp loss: 2.623953\tdecorrelation loss: 3874.334229\n"
     ]
    }
   ],
   "source": [
    "args = argparse.Namespace(lr=0.0, eta=1.0, decor_lr=1e-3, variance=1.0, epochs=10) # FAILS FOR E.G. variance=1.0 at this learning rate\n",
    "\n",
    "# class Model(nn.Sequential):\n",
    "#     def __init__(self, in_features, eta, variance):\n",
    "#         super().__init__(DecorLinear(in_features, 100, decor_bias=True, eta=eta, variance=variance),\n",
    "#                         nn.LeakyReLU(),\n",
    "#                         DecorLinear(100, 10, decor_bias=True, eta=eta, variance=variance)\n",
    "#                         )\n",
    "\n",
    "#     def forward(self, x):\n",
    "#         return super().forward(x.view(len(x), -1))\n",
    "\n",
    "class Model(nn.Sequential):\n",
    "    def __init__(self, in_features, eta, variance):\n",
    "        super().__init__(Decorrelation(in_features, bias=True, eta=eta, variance=variance),\n",
    "                        nn.Linear(in_features, out_features=100),\n",
    "                        nn.LeakyReLU(),\n",
    "                        Decorrelation(100, bias=True, eta=eta, variance=variance),\n",
    "                        nn.Linear(100, out_features=10)\n",
    "                        )\n",
    "\n",
    "    def forward(self, x):\n",
    "        return super().forward(x.view(len(x), -1))\n",
    "\n",
    "model = Model(784, eta=args.eta, variance=args.variance).to(device)\n",
    "\n",
    "lossfun = torch.nn.CrossEntropyLoss().to(device)\n",
    "\n",
    "res = decor_train(args, model, lossfun, train_loader, device)"
   ]
  },
  {
   "cell_type": "code",
   "execution_count": 14,
   "metadata": {},
   "outputs": [
    {
     "name": "stdout",
     "output_type": "stream",
     "text": [
      "layer 1 mean covariance before decorrelation: 2.12\n",
      "layer 1 mean covariance after decorrelation: 0.01\n",
      "layer 1 mean variance before decorrelation: 3.70\n",
      "layer 1 mean variance after decorrelation: 1.60\n",
      "layer 2 mean covariance before decorrelation: 0.15\n",
      "layer 2 mean covariance after decorrelation: 0.05\n",
      "layer 2 mean variance before decorrelation: 0.50\n",
      "layer 2 mean variance after decorrelation: 0.77\n"
     ]
    },
    {
     "data": {
      "image/png": "[encoded data removed]",
      "text/plain": [
       "<Figure size 640x480 with 4 Axes>"
      ]
     },
     "metadata": {},
     "output_type": "display_data"
    }
   ],
   "source": [
    "init_model = Model(784, eta=args.eta, variance=args.variance).to(device) # deepcopy does not work\n",
    "plot_results(init_model, model, train_loader)"
   ]
  },
  {
   "cell_type": "code",
   "execution_count": null,
   "metadata": {},
   "outputs": [],
   "source": []
  }
 ],
 "metadata": {
  "kernelspec": {
   "display_name": "Python 3",
   "language": "python",
   "name": "python3"
  },
  "language_info": {
   "codemirror_mode": {
    "name": "ipython",
    "version": 3
   },
   "file_extension": ".py",
   "mimetype": "text/x-python",
   "name": "python",
   "nbconvert_exporter": "python",
   "pygments_lexer": "ipython3",
   "version": "3.11.7"
  }
 },
 "nbformat": 4,
 "nbformat_minor": 2
}
